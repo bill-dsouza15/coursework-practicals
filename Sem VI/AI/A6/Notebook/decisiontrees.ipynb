{
  "nbformat": 4,
  "nbformat_minor": 2,
  "metadata": {
    "colab": {
      "name": "NaiveBayes.ipynb",
      "provenance": [],
      "collapsed_sections": []
    },
    "kernelspec": {
      "name": "python3",
      "display_name": "Python 3.8.5 64-bit"
    },
    "language_info": {
      "name": "python",
      "version": "3.8.5",
      "mimetype": "text/x-python",
      "codemirror_mode": {
        "name": "ipython",
        "version": 3
      },
      "pygments_lexer": "ipython3",
      "nbconvert_exporter": "python",
      "file_extension": ".py"
    },
    "interpreter": {
      "hash": "7d5c25a0dcd433e9174dbd40cc8162c4c651cca147fa234e40a811528338fdfd"
    }
  },
  "cells": [
    {
      "cell_type": "markdown",
      "source": [
        "Implement Decision Tree algorithm for sample data"
      ],
      "metadata": {
        "id": "rEbqY0CS5bvZ"
      }
    },
    {
      "cell_type": "markdown",
      "source": [
        "Displaying general information"
      ],
      "metadata": {
        "id": "kBOg3CBxtFaw"
      }
    },
    {
      "cell_type": "code",
      "execution_count": 1,
      "source": [
        "import pandas as pd\r\n",
        "import numpy as np\r\n",
        "\r\n",
        "telset = pd.read_csv('Dataset\\PersonHWI.csv')\r\n",
        "telset"
      ],
      "outputs": [
        {
          "output_type": "execute_result",
          "data": {
            "text/plain": [
              "     Gender  Height  Weight  Index\n",
              "0      Male     174      96      4\n",
              "1      Male     189      87      2\n",
              "2    Female     185     110      4\n",
              "3    Female     195     104      3\n",
              "4      Male     149      61      3\n",
              "..      ...     ...     ...    ...\n",
              "495  Female     150     153      5\n",
              "496  Female     184     121      4\n",
              "497  Female     141     136      5\n",
              "498    Male     150      95      5\n",
              "499    Male     173     131      5\n",
              "\n",
              "[500 rows x 4 columns]"
            ],
            "text/html": [
              "<div>\n",
              "<style scoped>\n",
              "    .dataframe tbody tr th:only-of-type {\n",
              "        vertical-align: middle;\n",
              "    }\n",
              "\n",
              "    .dataframe tbody tr th {\n",
              "        vertical-align: top;\n",
              "    }\n",
              "\n",
              "    .dataframe thead th {\n",
              "        text-align: right;\n",
              "    }\n",
              "</style>\n",
              "<table border=\"1\" class=\"dataframe\">\n",
              "  <thead>\n",
              "    <tr style=\"text-align: right;\">\n",
              "      <th></th>\n",
              "      <th>Gender</th>\n",
              "      <th>Height</th>\n",
              "      <th>Weight</th>\n",
              "      <th>Index</th>\n",
              "    </tr>\n",
              "  </thead>\n",
              "  <tbody>\n",
              "    <tr>\n",
              "      <th>0</th>\n",
              "      <td>Male</td>\n",
              "      <td>174</td>\n",
              "      <td>96</td>\n",
              "      <td>4</td>\n",
              "    </tr>\n",
              "    <tr>\n",
              "      <th>1</th>\n",
              "      <td>Male</td>\n",
              "      <td>189</td>\n",
              "      <td>87</td>\n",
              "      <td>2</td>\n",
              "    </tr>\n",
              "    <tr>\n",
              "      <th>2</th>\n",
              "      <td>Female</td>\n",
              "      <td>185</td>\n",
              "      <td>110</td>\n",
              "      <td>4</td>\n",
              "    </tr>\n",
              "    <tr>\n",
              "      <th>3</th>\n",
              "      <td>Female</td>\n",
              "      <td>195</td>\n",
              "      <td>104</td>\n",
              "      <td>3</td>\n",
              "    </tr>\n",
              "    <tr>\n",
              "      <th>4</th>\n",
              "      <td>Male</td>\n",
              "      <td>149</td>\n",
              "      <td>61</td>\n",
              "      <td>3</td>\n",
              "    </tr>\n",
              "    <tr>\n",
              "      <th>...</th>\n",
              "      <td>...</td>\n",
              "      <td>...</td>\n",
              "      <td>...</td>\n",
              "      <td>...</td>\n",
              "    </tr>\n",
              "    <tr>\n",
              "      <th>495</th>\n",
              "      <td>Female</td>\n",
              "      <td>150</td>\n",
              "      <td>153</td>\n",
              "      <td>5</td>\n",
              "    </tr>\n",
              "    <tr>\n",
              "      <th>496</th>\n",
              "      <td>Female</td>\n",
              "      <td>184</td>\n",
              "      <td>121</td>\n",
              "      <td>4</td>\n",
              "    </tr>\n",
              "    <tr>\n",
              "      <th>497</th>\n",
              "      <td>Female</td>\n",
              "      <td>141</td>\n",
              "      <td>136</td>\n",
              "      <td>5</td>\n",
              "    </tr>\n",
              "    <tr>\n",
              "      <th>498</th>\n",
              "      <td>Male</td>\n",
              "      <td>150</td>\n",
              "      <td>95</td>\n",
              "      <td>5</td>\n",
              "    </tr>\n",
              "    <tr>\n",
              "      <th>499</th>\n",
              "      <td>Male</td>\n",
              "      <td>173</td>\n",
              "      <td>131</td>\n",
              "      <td>5</td>\n",
              "    </tr>\n",
              "  </tbody>\n",
              "</table>\n",
              "<p>500 rows × 4 columns</p>\n",
              "</div>"
            ]
          },
          "metadata": {},
          "execution_count": 1
        }
      ],
      "metadata": {
        "id": "h1p7zsYPOarI",
        "colab": {
          "base_uri": "https://localhost:8080/",
          "height": 402
        },
        "outputId": "2ea5c53f-c7a3-424d-e756-6542dd533b9f"
      }
    },
    {
      "cell_type": "code",
      "execution_count": 2,
      "source": [
        "print(\"Shape of dataset\\n\",telset.shape)\r\n",
        "\r\n",
        "print(\"\\n\\nDataType info\\n\")\r\n",
        "print(telset.info())"
      ],
      "outputs": [
        {
          "output_type": "stream",
          "name": "stdout",
          "text": [
            "Shape of dataset\n",
            " (500, 4)\n",
            "\n",
            "\n",
            "DataType info\n",
            "\n",
            "<class 'pandas.core.frame.DataFrame'>\n",
            "RangeIndex: 500 entries, 0 to 499\n",
            "Data columns (total 4 columns):\n",
            " #   Column  Non-Null Count  Dtype \n",
            "---  ------  --------------  ----- \n",
            " 0   Gender  500 non-null    object\n",
            " 1   Height  500 non-null    int64 \n",
            " 2   Weight  500 non-null    int64 \n",
            " 3   Index   500 non-null    int64 \n",
            "dtypes: int64(3), object(1)\n",
            "memory usage: 15.8+ KB\n",
            "None\n"
          ]
        }
      ],
      "metadata": {
        "id": "jaKyQkdygezV",
        "colab": {
          "base_uri": "https://localhost:8080/"
        },
        "outputId": "ba16ef27-4022-4ee9-a0d6-0ba785332ab2"
      }
    },
    {
      "cell_type": "markdown",
      "source": [
        "Displaying summary statistics for each attribute"
      ],
      "metadata": {
        "id": "5dxTk-rrshdd"
      }
    },
    {
      "cell_type": "code",
      "execution_count": 3,
      "source": [
        "print(\"The statistical info of each attribute\\n\")\r\n",
        "datasummary = telset.describe()\r\n",
        "datasummary"
      ],
      "outputs": [
        {
          "output_type": "stream",
          "name": "stdout",
          "text": [
            "The statistical info of each attribute\n",
            "\n"
          ]
        },
        {
          "output_type": "execute_result",
          "data": {
            "text/plain": [
              "           Height      Weight       Index\n",
              "count  500.000000  500.000000  500.000000\n",
              "mean   169.944000  106.000000    3.748000\n",
              "std     16.375261   32.382607    1.355053\n",
              "min    140.000000   50.000000    0.000000\n",
              "25%    156.000000   80.000000    3.000000\n",
              "50%    170.500000  106.000000    4.000000\n",
              "75%    184.000000  136.000000    5.000000\n",
              "max    199.000000  160.000000    5.000000"
            ],
            "text/html": [
              "<div>\n",
              "<style scoped>\n",
              "    .dataframe tbody tr th:only-of-type {\n",
              "        vertical-align: middle;\n",
              "    }\n",
              "\n",
              "    .dataframe tbody tr th {\n",
              "        vertical-align: top;\n",
              "    }\n",
              "\n",
              "    .dataframe thead th {\n",
              "        text-align: right;\n",
              "    }\n",
              "</style>\n",
              "<table border=\"1\" class=\"dataframe\">\n",
              "  <thead>\n",
              "    <tr style=\"text-align: right;\">\n",
              "      <th></th>\n",
              "      <th>Height</th>\n",
              "      <th>Weight</th>\n",
              "      <th>Index</th>\n",
              "    </tr>\n",
              "  </thead>\n",
              "  <tbody>\n",
              "    <tr>\n",
              "      <th>count</th>\n",
              "      <td>500.000000</td>\n",
              "      <td>500.000000</td>\n",
              "      <td>500.000000</td>\n",
              "    </tr>\n",
              "    <tr>\n",
              "      <th>mean</th>\n",
              "      <td>169.944000</td>\n",
              "      <td>106.000000</td>\n",
              "      <td>3.748000</td>\n",
              "    </tr>\n",
              "    <tr>\n",
              "      <th>std</th>\n",
              "      <td>16.375261</td>\n",
              "      <td>32.382607</td>\n",
              "      <td>1.355053</td>\n",
              "    </tr>\n",
              "    <tr>\n",
              "      <th>min</th>\n",
              "      <td>140.000000</td>\n",
              "      <td>50.000000</td>\n",
              "      <td>0.000000</td>\n",
              "    </tr>\n",
              "    <tr>\n",
              "      <th>25%</th>\n",
              "      <td>156.000000</td>\n",
              "      <td>80.000000</td>\n",
              "      <td>3.000000</td>\n",
              "    </tr>\n",
              "    <tr>\n",
              "      <th>50%</th>\n",
              "      <td>170.500000</td>\n",
              "      <td>106.000000</td>\n",
              "      <td>4.000000</td>\n",
              "    </tr>\n",
              "    <tr>\n",
              "      <th>75%</th>\n",
              "      <td>184.000000</td>\n",
              "      <td>136.000000</td>\n",
              "      <td>5.000000</td>\n",
              "    </tr>\n",
              "    <tr>\n",
              "      <th>max</th>\n",
              "      <td>199.000000</td>\n",
              "      <td>160.000000</td>\n",
              "      <td>5.000000</td>\n",
              "    </tr>\n",
              "  </tbody>\n",
              "</table>\n",
              "</div>"
            ]
          },
          "metadata": {},
          "execution_count": 3
        }
      ],
      "metadata": {
        "id": "LIYiVqj2RHXQ",
        "colab": {
          "base_uri": "https://localhost:8080/",
          "height": 318
        },
        "outputId": "57f116c8-7414-4b14-80af-0814ad5a8e3e"
      }
    },
    {
      "cell_type": "code",
      "execution_count": 4,
      "source": [
        "print(\"\\nMean\\n\")\r\n",
        "meanInfo = telset.mean()\r\n",
        "meanInfo"
      ],
      "outputs": [
        {
          "output_type": "stream",
          "name": "stdout",
          "text": [
            "\n",
            "Mean\n",
            "\n"
          ]
        },
        {
          "output_type": "execute_result",
          "data": {
            "text/plain": [
              "Height    169.944\n",
              "Weight    106.000\n",
              "Index       3.748\n",
              "dtype: float64"
            ]
          },
          "metadata": {},
          "execution_count": 4
        }
      ],
      "metadata": {
        "id": "X0UJi1Y_1i4c",
        "colab": {
          "base_uri": "https://localhost:8080/"
        },
        "outputId": "c462472c-f434-44c9-d257-08589ba15541"
      }
    },
    {
      "cell_type": "code",
      "execution_count": 5,
      "source": [
        "print(\"\\nMedian\\n\")\r\n",
        "medianInfo = telset.median()\r\n",
        "medianInfo"
      ],
      "outputs": [
        {
          "output_type": "stream",
          "name": "stdout",
          "text": [
            "\n",
            "Median\n",
            "\n"
          ]
        },
        {
          "output_type": "execute_result",
          "data": {
            "text/plain": [
              "Height    170.5\n",
              "Weight    106.0\n",
              "Index       4.0\n",
              "dtype: float64"
            ]
          },
          "metadata": {},
          "execution_count": 5
        }
      ],
      "metadata": {
        "id": "LHXNfa6ga9G5",
        "colab": {
          "base_uri": "https://localhost:8080/"
        },
        "outputId": "073e7334-1a42-48d8-e0e0-48b0e16161dc"
      }
    },
    {
      "cell_type": "code",
      "execution_count": 6,
      "source": [
        "print(\"\\nMode\\n\")\r\n",
        "modeInfo = telset.mode()\r\n",
        "modeInfo"
      ],
      "outputs": [
        {
          "output_type": "stream",
          "name": "stdout",
          "text": [
            "\n",
            "Mode\n",
            "\n"
          ]
        },
        {
          "output_type": "execute_result",
          "data": {
            "text/plain": [
              "   Gender  Height  Weight  Index\n",
              "0  Female   188.0      50    5.0\n",
              "1     NaN     NaN      80    NaN\n",
              "2     NaN     NaN     104    NaN"
            ],
            "text/html": [
              "<div>\n",
              "<style scoped>\n",
              "    .dataframe tbody tr th:only-of-type {\n",
              "        vertical-align: middle;\n",
              "    }\n",
              "\n",
              "    .dataframe tbody tr th {\n",
              "        vertical-align: top;\n",
              "    }\n",
              "\n",
              "    .dataframe thead th {\n",
              "        text-align: right;\n",
              "    }\n",
              "</style>\n",
              "<table border=\"1\" class=\"dataframe\">\n",
              "  <thead>\n",
              "    <tr style=\"text-align: right;\">\n",
              "      <th></th>\n",
              "      <th>Gender</th>\n",
              "      <th>Height</th>\n",
              "      <th>Weight</th>\n",
              "      <th>Index</th>\n",
              "    </tr>\n",
              "  </thead>\n",
              "  <tbody>\n",
              "    <tr>\n",
              "      <th>0</th>\n",
              "      <td>Female</td>\n",
              "      <td>188.0</td>\n",
              "      <td>50</td>\n",
              "      <td>5.0</td>\n",
              "    </tr>\n",
              "    <tr>\n",
              "      <th>1</th>\n",
              "      <td>NaN</td>\n",
              "      <td>NaN</td>\n",
              "      <td>80</td>\n",
              "      <td>NaN</td>\n",
              "    </tr>\n",
              "    <tr>\n",
              "      <th>2</th>\n",
              "      <td>NaN</td>\n",
              "      <td>NaN</td>\n",
              "      <td>104</td>\n",
              "      <td>NaN</td>\n",
              "    </tr>\n",
              "  </tbody>\n",
              "</table>\n",
              "</div>"
            ]
          },
          "metadata": {},
          "execution_count": 6
        }
      ],
      "metadata": {
        "id": "JGUHlDsu1saJ",
        "colab": {
          "base_uri": "https://localhost:8080/",
          "height": 452
        },
        "outputId": "58de62f5-c6c3-4c63-848a-c2a5896b8a52"
      }
    },
    {
      "cell_type": "code",
      "execution_count": 7,
      "source": [
        "print(\"\\nStd Dev\\n\")\r\n",
        "stddevInfo = telset.std()\r\n",
        "stddevInfo"
      ],
      "outputs": [
        {
          "output_type": "stream",
          "name": "stdout",
          "text": [
            "\n",
            "Std Dev\n",
            "\n"
          ]
        },
        {
          "output_type": "execute_result",
          "data": {
            "text/plain": [
              "Height    16.375261\n",
              "Weight    32.382607\n",
              "Index      1.355053\n",
              "dtype: float64"
            ]
          },
          "metadata": {},
          "execution_count": 7
        }
      ],
      "metadata": {
        "id": "FcSiznpw2BE4",
        "colab": {
          "base_uri": "https://localhost:8080/"
        },
        "outputId": "9976d8cb-63fa-412b-bfd7-6ae67e3b81bc"
      }
    },
    {
      "cell_type": "code",
      "execution_count": 8,
      "source": [
        "print(\"\\nSkewness\\n\")\r\n",
        "skewnessInfo = telset.skew()\r\n",
        "skewnessInfo"
      ],
      "outputs": [
        {
          "output_type": "stream",
          "name": "stdout",
          "text": [
            "\n",
            "Skewness\n",
            "\n"
          ]
        },
        {
          "output_type": "execute_result",
          "data": {
            "text/plain": [
              "Height   -0.121914\n",
              "Weight   -0.037692\n",
              "Index    -0.927799\n",
              "dtype: float64"
            ]
          },
          "metadata": {},
          "execution_count": 8
        }
      ],
      "metadata": {
        "id": "HN4v0Q9Q2EUZ",
        "colab": {
          "base_uri": "https://localhost:8080/"
        },
        "outputId": "494fa44b-af3e-41e8-898e-b07e9d851160"
      }
    },
    {
      "cell_type": "markdown",
      "source": [
        "Data Transformation\n"
      ],
      "metadata": {
        "id": "fvBEteVXwbLc"
      }
    },
    {
      "cell_type": "code",
      "execution_count": 9,
      "source": [
        "from pandas import get_dummies\r\n",
        "\r\n",
        "print(\"Performing label encoding (since the columns are to be made nominal)\\n\")\r\n",
        "#Creating matrix X and y\r\n",
        "X = telset.drop(columns=['Index'])\r\n",
        "array = telset.values\r\n",
        "y = array[:,3]\r\n",
        "\r\n",
        "#Encode type object to numerical\r\n",
        "X = pd.get_dummies(X)\r\n",
        "\r\n",
        "print(X)"
      ],
      "outputs": [
        {
          "output_type": "stream",
          "name": "stdout",
          "text": [
            "Performing label encoding (since the columns are to be made nominal)\n",
            "\n",
            "     Height  Weight  Gender_Female  Gender_Male\n",
            "0       174      96              0            1\n",
            "1       189      87              0            1\n",
            "2       185     110              1            0\n",
            "3       195     104              1            0\n",
            "4       149      61              0            1\n",
            "..      ...     ...            ...          ...\n",
            "495     150     153              1            0\n",
            "496     184     121              1            0\n",
            "497     141     136              1            0\n",
            "498     150      95              0            1\n",
            "499     173     131              0            1\n",
            "\n",
            "[500 rows x 4 columns]\n"
          ]
        }
      ],
      "metadata": {
        "id": "cxXU42AJwezv",
        "colab": {
          "base_uri": "https://localhost:8080/"
        },
        "outputId": "92e84824-e93e-4c6d-95bb-0ba6f3f82553"
      }
    },
    {
      "cell_type": "markdown",
      "source": [
        "Feature matrix creation and min-max feature scaling (normalization)"
      ],
      "metadata": {
        "id": "18k4AWmJ-z1C"
      }
    },
    {
      "cell_type": "code",
      "execution_count": 10,
      "source": [
        "print(\"Feature Matrix\\n\")\r\n",
        "print(X)\r\n",
        "\r\n",
        "from sklearn import preprocessing \r\n",
        "print(\"\\n\\nNormalised Feature Matrix\\n\")\r\n",
        "scaler = preprocessing.MinMaxScaler() \r\n",
        "X_scaled = scaler.fit_transform(X)\r\n",
        "print(X_scaled)\r\n",
        "\r\n",
        "print(\"\\n\\nExpected Output Y\")\r\n",
        "y = y.reshape(len(y),)\r\n",
        "y = y.astype('int')\r\n",
        "print(y)\r\n"
      ],
      "outputs": [
        {
          "output_type": "stream",
          "name": "stdout",
          "text": [
            "Feature Matrix\n",
            "\n",
            "     Height  Weight  Gender_Female  Gender_Male\n",
            "0       174      96              0            1\n",
            "1       189      87              0            1\n",
            "2       185     110              1            0\n",
            "3       195     104              1            0\n",
            "4       149      61              0            1\n",
            "..      ...     ...            ...          ...\n",
            "495     150     153              1            0\n",
            "496     184     121              1            0\n",
            "497     141     136              1            0\n",
            "498     150      95              0            1\n",
            "499     173     131              0            1\n",
            "\n",
            "[500 rows x 4 columns]\n",
            "\n",
            "\n",
            "Normalised Feature Matrix\n",
            "\n",
            "[[0.57627119 0.41818182 0.         1.        ]\n",
            " [0.83050847 0.33636364 0.         1.        ]\n",
            " [0.76271186 0.54545455 1.         0.        ]\n",
            " ...\n",
            " [0.01694915 0.78181818 1.         0.        ]\n",
            " [0.16949153 0.40909091 0.         1.        ]\n",
            " [0.55932203 0.73636364 0.         1.        ]]\n",
            "\n",
            "\n",
            "Expected Output Y\n",
            "[4 2 4 3 3 3 5 5 3 4 2 4 3 2 2 5 5 5 5 5 5 5 4 5 2 3 3 1 5 5 5 1 1 5 5 4 3\n",
            " 4 5 2 4 5 2 5 4 2 4 4 3 5 5 1 5 4 4 3 4 5 3 5 0 5 0 2 5 5 4 2 4 4 2 4 5 2\n",
            " 3 4 4 4 4 0 3 5 3 4 5 0 5 5 5 5 5 3 3 2 4 5 4 5 1 0 4 5 5 4 4 4 5 5 4 3 4\n",
            " 5 4 2 4 3 2 5 5 5 4 4 4 5 5 4 4 4 5 2 5 2 5 4 5 5 5 3 5 5 2 4 5 5 5 4 3 5\n",
            " 3 3 0 3 3 5 5 4 3 5 3 4 2 2 3 5 4 2 4 5 3 2 4 5 5 4 4 4 4 3 5 3 3 4 4 2 3\n",
            " 3 5 3 5 4 5 5 4 5 5 5 4 4 5 5 1 3 4 4 5 4 5 4 3 4 4 5 5 5 0 5 5 5 5 5 2 5\n",
            " 4 5 0 5 3 4 5 5 4 2 3 3 4 3 5 5 2 5 3 2 1 5 0 5 3 5 3 4 3 5 5 5 5 2 4 5 5\n",
            " 4 5 5 5 2 4 5 5 5 5 1 5 5 4 0 3 3 4 2 3 1 1 5 5 4 4 4 4 5 2 5 4 3 3 4 5 5\n",
            " 2 4 3 4 5 4 2 4 5 4 5 5 1 5 5 5 5 2 2 5 3 5 4 5 4 4 5 5 4 2 2 4 3 3 5 4 2\n",
            " 2 2 2 5 5 4 5 3 4 4 3 4 4 2 2 5 2 2 2 2 5 0 3 4 5 1 4 1 4 5 4 5 5 3 4 5 4\n",
            " 3 5 1 2 4 5 5 5 5 3 5 1 4 5 5 2 5 4 3 2 2 2 2 3 5 3 3 5 3 5 3 4 2 4 4 5 2\n",
            " 5 5 5 1 4 5 5 5 4 5 2 5 2 1 5 5 4 1 1 4 4 4 4 2 5 5 4 2 5 5 5 1 5 4 2 5 5\n",
            " 4 5 4 4 5 5 5 4 5 0 2 2 4 2 4 5 4 5 1 5 2 5 3 5 5 3 5 5 2 5 3 4 5 2 2 5 5\n",
            " 4 5 4 4 4 5 2 4 5 2 5 0 1 5 5 4 5 5 5]\n"
          ]
        }
      ],
      "metadata": {
        "id": "-_MeSk3k55Yt",
        "colab": {
          "base_uri": "https://localhost:8080/"
        },
        "outputId": "4bc3f9cb-1a89-4302-b083-5b583e32b016"
      }
    },
    {
      "cell_type": "markdown",
      "source": [
        "Splitting dataset and training model"
      ],
      "metadata": {
        "id": "0nFe61hyFhbb"
      }
    },
    {
      "cell_type": "code",
      "execution_count": 11,
      "source": [
        "from sklearn.tree import DecisionTreeClassifier\r\n",
        "from sklearn import model_selection\r\n",
        "from sklearn.model_selection import train_test_split\r\n",
        "\r\n",
        "seed = 7\r\n",
        "X_train, X_test, Y_train, Y_test = train_test_split(X_scaled, y, test_size=0.33, random_state=seed)\r\n",
        "\r\n",
        "#Initialize Gaussian Naive Bayes\r\n",
        "clf = DecisionTreeClassifier(criterion='gini', max_depth=3, random_state=0)\r\n",
        "#Fitting the training set\r\n",
        "clf.fit(X_train, Y_train) \r\n",
        "#Predicting for the Test Set\r\n",
        "Y_pred = clf.predict(X_test)\r\n",
        "\r\n",
        "#Predicted Output\r\n",
        "print('Predicted Output Y')\r\n",
        "print(Y_pred)\r\n",
        "\r\n",
        "#Printing accuracy data\r\n",
        "kfold = model_selection.KFold(n_splits=10)\r\n",
        "#calling the cross validation function\r\n",
        "score = model_selection.cross_val_score(clf, X_test, Y_test, cv=kfold, scoring='accuracy')\r\n",
        "#Accuracy Score\r\n",
        "print('\\nScore : %.3f' % (score.mean()))"
      ],
      "outputs": [
        {
          "output_type": "stream",
          "name": "stdout",
          "text": [
            "Predicted Output Y\n",
            "[2 2 5 2 4 4 2 4 5 2 5 5 2 4 5 2 4 2 5 2 5 4 4 5 4 5 5 2 5 5 5 2 2 5 5 5 4\n",
            " 5 4 5 5 2 4 5 5 3 5 2 4 5 2 5 4 5 4 2 2 5 5 4 5 2 4 4 5 4 5 2 2 5 5 5 4 4\n",
            " 2 5 5 5 2 4 5 4 2 4 2 5 4 4 2 4 5 2 5 2 2 2 4 4 2 2 5 5 4 5 4 5 2 5 4 5 4\n",
            " 5 4 5 4 2 2 4 4 2 5 2 2 4 2 4 2 4 5 4 5 5 2 4 2 2 5 5 4 2 5 4 3 5 4 5 5 2\n",
            " 5 4 5 2 5 2 2 4 5 2 5 2 5 5 4 4 4]\n",
            "\n",
            "Score : 0.601\n"
          ]
        }
      ],
      "metadata": {
        "id": "LU1nj0OzFgWN",
        "colab": {
          "base_uri": "https://localhost:8080/"
        },
        "outputId": "d9ed317b-42ba-4ce1-f5ba-048d2db1362a"
      }
    }
  ]
}