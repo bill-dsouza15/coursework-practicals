{
  "nbformat": 4,
  "nbformat_minor": 2,
  "metadata": {
    "colab": {
      "name": "NaiveBayes.ipynb",
      "provenance": [],
      "collapsed_sections": []
    },
    "kernelspec": {
      "name": "python385jvsc74a57bd07d5c25a0dcd433e9174dbd40cc8162c4c651cca147fa234e40a811528338fdfd",
      "display_name": "Python 3.8.5 64-bit"
    }
  },
  "cells": [
    {
      "cell_type": "markdown",
      "source": [
        "Implement Naive Bayes algorithm for sample data"
      ],
      "metadata": {
        "id": "rEbqY0CS5bvZ"
      }
    },
    {
      "cell_type": "markdown",
      "source": [
        "Displaying general information"
      ],
      "metadata": {
        "id": "kBOg3CBxtFaw"
      }
    },
    {
      "cell_type": "code",
      "execution_count": 21,
      "source": [
        "import pandas as pd\r\n",
        "import numpy as np\r\n",
        "\r\n",
        "telset = pd.read_csv('Dataset\\Iris.csv')\r\n",
        "telset"
      ],
      "outputs": [
        {
          "output_type": "execute_result",
          "data": {
            "text/plain": [
              "      Id  SepalLengthCm  SepalWidthCm  PetalLengthCm  PetalWidthCm  \\\n",
              "0      1            5.1           3.5            1.4           0.2   \n",
              "1      2            4.9           3.0            1.4           0.2   \n",
              "2      3            4.7           3.2            1.3           0.2   \n",
              "3      4            4.6           3.1            1.5           0.2   \n",
              "4      5            5.0           3.6            1.4           0.2   \n",
              "..   ...            ...           ...            ...           ...   \n",
              "145  146            6.7           3.0            5.2           2.3   \n",
              "146  147            6.3           2.5            5.0           1.9   \n",
              "147  148            6.5           3.0            5.2           2.0   \n",
              "148  149            6.2           3.4            5.4           2.3   \n",
              "149  150            5.9           3.0            5.1           1.8   \n",
              "\n",
              "            Species  \n",
              "0       Iris-setosa  \n",
              "1       Iris-setosa  \n",
              "2       Iris-setosa  \n",
              "3       Iris-setosa  \n",
              "4       Iris-setosa  \n",
              "..              ...  \n",
              "145  Iris-virginica  \n",
              "146  Iris-virginica  \n",
              "147  Iris-virginica  \n",
              "148  Iris-virginica  \n",
              "149  Iris-virginica  \n",
              "\n",
              "[150 rows x 6 columns]"
            ],
            "text/html": [
              "<div>\n",
              "<style scoped>\n",
              "    .dataframe tbody tr th:only-of-type {\n",
              "        vertical-align: middle;\n",
              "    }\n",
              "\n",
              "    .dataframe tbody tr th {\n",
              "        vertical-align: top;\n",
              "    }\n",
              "\n",
              "    .dataframe thead th {\n",
              "        text-align: right;\n",
              "    }\n",
              "</style>\n",
              "<table border=\"1\" class=\"dataframe\">\n",
              "  <thead>\n",
              "    <tr style=\"text-align: right;\">\n",
              "      <th></th>\n",
              "      <th>Id</th>\n",
              "      <th>SepalLengthCm</th>\n",
              "      <th>SepalWidthCm</th>\n",
              "      <th>PetalLengthCm</th>\n",
              "      <th>PetalWidthCm</th>\n",
              "      <th>Species</th>\n",
              "    </tr>\n",
              "  </thead>\n",
              "  <tbody>\n",
              "    <tr>\n",
              "      <th>0</th>\n",
              "      <td>1</td>\n",
              "      <td>5.1</td>\n",
              "      <td>3.5</td>\n",
              "      <td>1.4</td>\n",
              "      <td>0.2</td>\n",
              "      <td>Iris-setosa</td>\n",
              "    </tr>\n",
              "    <tr>\n",
              "      <th>1</th>\n",
              "      <td>2</td>\n",
              "      <td>4.9</td>\n",
              "      <td>3.0</td>\n",
              "      <td>1.4</td>\n",
              "      <td>0.2</td>\n",
              "      <td>Iris-setosa</td>\n",
              "    </tr>\n",
              "    <tr>\n",
              "      <th>2</th>\n",
              "      <td>3</td>\n",
              "      <td>4.7</td>\n",
              "      <td>3.2</td>\n",
              "      <td>1.3</td>\n",
              "      <td>0.2</td>\n",
              "      <td>Iris-setosa</td>\n",
              "    </tr>\n",
              "    <tr>\n",
              "      <th>3</th>\n",
              "      <td>4</td>\n",
              "      <td>4.6</td>\n",
              "      <td>3.1</td>\n",
              "      <td>1.5</td>\n",
              "      <td>0.2</td>\n",
              "      <td>Iris-setosa</td>\n",
              "    </tr>\n",
              "    <tr>\n",
              "      <th>4</th>\n",
              "      <td>5</td>\n",
              "      <td>5.0</td>\n",
              "      <td>3.6</td>\n",
              "      <td>1.4</td>\n",
              "      <td>0.2</td>\n",
              "      <td>Iris-setosa</td>\n",
              "    </tr>\n",
              "    <tr>\n",
              "      <th>...</th>\n",
              "      <td>...</td>\n",
              "      <td>...</td>\n",
              "      <td>...</td>\n",
              "      <td>...</td>\n",
              "      <td>...</td>\n",
              "      <td>...</td>\n",
              "    </tr>\n",
              "    <tr>\n",
              "      <th>145</th>\n",
              "      <td>146</td>\n",
              "      <td>6.7</td>\n",
              "      <td>3.0</td>\n",
              "      <td>5.2</td>\n",
              "      <td>2.3</td>\n",
              "      <td>Iris-virginica</td>\n",
              "    </tr>\n",
              "    <tr>\n",
              "      <th>146</th>\n",
              "      <td>147</td>\n",
              "      <td>6.3</td>\n",
              "      <td>2.5</td>\n",
              "      <td>5.0</td>\n",
              "      <td>1.9</td>\n",
              "      <td>Iris-virginica</td>\n",
              "    </tr>\n",
              "    <tr>\n",
              "      <th>147</th>\n",
              "      <td>148</td>\n",
              "      <td>6.5</td>\n",
              "      <td>3.0</td>\n",
              "      <td>5.2</td>\n",
              "      <td>2.0</td>\n",
              "      <td>Iris-virginica</td>\n",
              "    </tr>\n",
              "    <tr>\n",
              "      <th>148</th>\n",
              "      <td>149</td>\n",
              "      <td>6.2</td>\n",
              "      <td>3.4</td>\n",
              "      <td>5.4</td>\n",
              "      <td>2.3</td>\n",
              "      <td>Iris-virginica</td>\n",
              "    </tr>\n",
              "    <tr>\n",
              "      <th>149</th>\n",
              "      <td>150</td>\n",
              "      <td>5.9</td>\n",
              "      <td>3.0</td>\n",
              "      <td>5.1</td>\n",
              "      <td>1.8</td>\n",
              "      <td>Iris-virginica</td>\n",
              "    </tr>\n",
              "  </tbody>\n",
              "</table>\n",
              "<p>150 rows × 6 columns</p>\n",
              "</div>"
            ]
          },
          "metadata": {},
          "execution_count": 21
        }
      ],
      "metadata": {
        "id": "h1p7zsYPOarI",
        "colab": {
          "base_uri": "https://localhost:8080/",
          "height": 402
        },
        "outputId": "2ea5c53f-c7a3-424d-e756-6542dd533b9f"
      }
    },
    {
      "cell_type": "code",
      "execution_count": 22,
      "source": [
        "print(\"Shape of dataset\\n\",telset.shape)\r\n",
        "\r\n",
        "print(\"\\n\\nDataType info\\n\")\r\n",
        "print(telset.info())"
      ],
      "outputs": [
        {
          "output_type": "stream",
          "name": "stdout",
          "text": [
            "Shape of dataset\n",
            " (150, 6)\n",
            "\n",
            "\n",
            "DataType info\n",
            "\n",
            "<class 'pandas.core.frame.DataFrame'>\n",
            "RangeIndex: 150 entries, 0 to 149\n",
            "Data columns (total 6 columns):\n",
            " #   Column         Non-Null Count  Dtype  \n",
            "---  ------         --------------  -----  \n",
            " 0   Id             150 non-null    int64  \n",
            " 1   SepalLengthCm  150 non-null    float64\n",
            " 2   SepalWidthCm   150 non-null    float64\n",
            " 3   PetalLengthCm  150 non-null    float64\n",
            " 4   PetalWidthCm   150 non-null    float64\n",
            " 5   Species        150 non-null    object \n",
            "dtypes: float64(4), int64(1), object(1)\n",
            "memory usage: 7.2+ KB\n",
            "None\n"
          ]
        }
      ],
      "metadata": {
        "id": "jaKyQkdygezV",
        "colab": {
          "base_uri": "https://localhost:8080/"
        },
        "outputId": "ba16ef27-4022-4ee9-a0d6-0ba785332ab2"
      }
    },
    {
      "cell_type": "markdown",
      "source": [
        "Displaying summary statistics for each attribute"
      ],
      "metadata": {
        "id": "5dxTk-rrshdd"
      }
    },
    {
      "cell_type": "code",
      "execution_count": 23,
      "source": [
        "print(\"The statistical info of each attribute\\n\")\r\n",
        "datasummary = telset.describe()\r\n",
        "datasummary"
      ],
      "outputs": [
        {
          "output_type": "stream",
          "name": "stdout",
          "text": [
            "The statistical info of each attribute\n",
            "\n"
          ]
        },
        {
          "output_type": "execute_result",
          "data": {
            "text/plain": [
              "               Id  SepalLengthCm  SepalWidthCm  PetalLengthCm  PetalWidthCm\n",
              "count  150.000000     150.000000    150.000000     150.000000    150.000000\n",
              "mean    75.500000       5.843333      3.054000       3.758667      1.198667\n",
              "std     43.445368       0.828066      0.433594       1.764420      0.763161\n",
              "min      1.000000       4.300000      2.000000       1.000000      0.100000\n",
              "25%     38.250000       5.100000      2.800000       1.600000      0.300000\n",
              "50%     75.500000       5.800000      3.000000       4.350000      1.300000\n",
              "75%    112.750000       6.400000      3.300000       5.100000      1.800000\n",
              "max    150.000000       7.900000      4.400000       6.900000      2.500000"
            ],
            "text/html": [
              "<div>\n",
              "<style scoped>\n",
              "    .dataframe tbody tr th:only-of-type {\n",
              "        vertical-align: middle;\n",
              "    }\n",
              "\n",
              "    .dataframe tbody tr th {\n",
              "        vertical-align: top;\n",
              "    }\n",
              "\n",
              "    .dataframe thead th {\n",
              "        text-align: right;\n",
              "    }\n",
              "</style>\n",
              "<table border=\"1\" class=\"dataframe\">\n",
              "  <thead>\n",
              "    <tr style=\"text-align: right;\">\n",
              "      <th></th>\n",
              "      <th>Id</th>\n",
              "      <th>SepalLengthCm</th>\n",
              "      <th>SepalWidthCm</th>\n",
              "      <th>PetalLengthCm</th>\n",
              "      <th>PetalWidthCm</th>\n",
              "    </tr>\n",
              "  </thead>\n",
              "  <tbody>\n",
              "    <tr>\n",
              "      <th>count</th>\n",
              "      <td>150.000000</td>\n",
              "      <td>150.000000</td>\n",
              "      <td>150.000000</td>\n",
              "      <td>150.000000</td>\n",
              "      <td>150.000000</td>\n",
              "    </tr>\n",
              "    <tr>\n",
              "      <th>mean</th>\n",
              "      <td>75.500000</td>\n",
              "      <td>5.843333</td>\n",
              "      <td>3.054000</td>\n",
              "      <td>3.758667</td>\n",
              "      <td>1.198667</td>\n",
              "    </tr>\n",
              "    <tr>\n",
              "      <th>std</th>\n",
              "      <td>43.445368</td>\n",
              "      <td>0.828066</td>\n",
              "      <td>0.433594</td>\n",
              "      <td>1.764420</td>\n",
              "      <td>0.763161</td>\n",
              "    </tr>\n",
              "    <tr>\n",
              "      <th>min</th>\n",
              "      <td>1.000000</td>\n",
              "      <td>4.300000</td>\n",
              "      <td>2.000000</td>\n",
              "      <td>1.000000</td>\n",
              "      <td>0.100000</td>\n",
              "    </tr>\n",
              "    <tr>\n",
              "      <th>25%</th>\n",
              "      <td>38.250000</td>\n",
              "      <td>5.100000</td>\n",
              "      <td>2.800000</td>\n",
              "      <td>1.600000</td>\n",
              "      <td>0.300000</td>\n",
              "    </tr>\n",
              "    <tr>\n",
              "      <th>50%</th>\n",
              "      <td>75.500000</td>\n",
              "      <td>5.800000</td>\n",
              "      <td>3.000000</td>\n",
              "      <td>4.350000</td>\n",
              "      <td>1.300000</td>\n",
              "    </tr>\n",
              "    <tr>\n",
              "      <th>75%</th>\n",
              "      <td>112.750000</td>\n",
              "      <td>6.400000</td>\n",
              "      <td>3.300000</td>\n",
              "      <td>5.100000</td>\n",
              "      <td>1.800000</td>\n",
              "    </tr>\n",
              "    <tr>\n",
              "      <th>max</th>\n",
              "      <td>150.000000</td>\n",
              "      <td>7.900000</td>\n",
              "      <td>4.400000</td>\n",
              "      <td>6.900000</td>\n",
              "      <td>2.500000</td>\n",
              "    </tr>\n",
              "  </tbody>\n",
              "</table>\n",
              "</div>"
            ]
          },
          "metadata": {},
          "execution_count": 23
        }
      ],
      "metadata": {
        "id": "LIYiVqj2RHXQ",
        "colab": {
          "base_uri": "https://localhost:8080/",
          "height": 318
        },
        "outputId": "57f116c8-7414-4b14-80af-0814ad5a8e3e"
      }
    },
    {
      "cell_type": "code",
      "execution_count": 24,
      "source": [
        "print(\"\\nMean\\n\")\r\n",
        "meanInfo = telset.mean()\r\n",
        "meanInfo"
      ],
      "outputs": [
        {
          "output_type": "stream",
          "name": "stdout",
          "text": [
            "\n",
            "Mean\n",
            "\n"
          ]
        },
        {
          "output_type": "execute_result",
          "data": {
            "text/plain": [
              "Id               75.500000\n",
              "SepalLengthCm     5.843333\n",
              "SepalWidthCm      3.054000\n",
              "PetalLengthCm     3.758667\n",
              "PetalWidthCm      1.198667\n",
              "dtype: float64"
            ]
          },
          "metadata": {},
          "execution_count": 24
        }
      ],
      "metadata": {
        "id": "X0UJi1Y_1i4c",
        "colab": {
          "base_uri": "https://localhost:8080/"
        },
        "outputId": "c462472c-f434-44c9-d257-08589ba15541"
      }
    },
    {
      "cell_type": "code",
      "execution_count": 25,
      "source": [
        "print(\"\\nMedian\\n\")\r\n",
        "medianInfo = telset.median()\r\n",
        "medianInfo"
      ],
      "outputs": [
        {
          "output_type": "stream",
          "name": "stdout",
          "text": [
            "\n",
            "Median\n",
            "\n"
          ]
        },
        {
          "output_type": "execute_result",
          "data": {
            "text/plain": [
              "Id               75.50\n",
              "SepalLengthCm     5.80\n",
              "SepalWidthCm      3.00\n",
              "PetalLengthCm     4.35\n",
              "PetalWidthCm      1.30\n",
              "dtype: float64"
            ]
          },
          "metadata": {},
          "execution_count": 25
        }
      ],
      "metadata": {
        "id": "LHXNfa6ga9G5",
        "colab": {
          "base_uri": "https://localhost:8080/"
        },
        "outputId": "073e7334-1a42-48d8-e0e0-48b0e16161dc"
      }
    },
    {
      "cell_type": "code",
      "execution_count": 26,
      "source": [
        "print(\"\\nMode\\n\")\r\n",
        "modeInfo = telset.mode()\r\n",
        "modeInfo"
      ],
      "outputs": [
        {
          "output_type": "stream",
          "name": "stdout",
          "text": [
            "\n",
            "Mode\n",
            "\n"
          ]
        },
        {
          "output_type": "execute_result",
          "data": {
            "text/plain": [
              "      Id  SepalLengthCm  SepalWidthCm  PetalLengthCm  PetalWidthCm  \\\n",
              "0      1            5.0           3.0            1.5           0.2   \n",
              "1      2            NaN           NaN            NaN           NaN   \n",
              "2      3            NaN           NaN            NaN           NaN   \n",
              "3      4            NaN           NaN            NaN           NaN   \n",
              "4      5            NaN           NaN            NaN           NaN   \n",
              "..   ...            ...           ...            ...           ...   \n",
              "145  146            NaN           NaN            NaN           NaN   \n",
              "146  147            NaN           NaN            NaN           NaN   \n",
              "147  148            NaN           NaN            NaN           NaN   \n",
              "148  149            NaN           NaN            NaN           NaN   \n",
              "149  150            NaN           NaN            NaN           NaN   \n",
              "\n",
              "             Species  \n",
              "0        Iris-setosa  \n",
              "1    Iris-versicolor  \n",
              "2     Iris-virginica  \n",
              "3                NaN  \n",
              "4                NaN  \n",
              "..               ...  \n",
              "145              NaN  \n",
              "146              NaN  \n",
              "147              NaN  \n",
              "148              NaN  \n",
              "149              NaN  \n",
              "\n",
              "[150 rows x 6 columns]"
            ],
            "text/html": [
              "<div>\n",
              "<style scoped>\n",
              "    .dataframe tbody tr th:only-of-type {\n",
              "        vertical-align: middle;\n",
              "    }\n",
              "\n",
              "    .dataframe tbody tr th {\n",
              "        vertical-align: top;\n",
              "    }\n",
              "\n",
              "    .dataframe thead th {\n",
              "        text-align: right;\n",
              "    }\n",
              "</style>\n",
              "<table border=\"1\" class=\"dataframe\">\n",
              "  <thead>\n",
              "    <tr style=\"text-align: right;\">\n",
              "      <th></th>\n",
              "      <th>Id</th>\n",
              "      <th>SepalLengthCm</th>\n",
              "      <th>SepalWidthCm</th>\n",
              "      <th>PetalLengthCm</th>\n",
              "      <th>PetalWidthCm</th>\n",
              "      <th>Species</th>\n",
              "    </tr>\n",
              "  </thead>\n",
              "  <tbody>\n",
              "    <tr>\n",
              "      <th>0</th>\n",
              "      <td>1</td>\n",
              "      <td>5.0</td>\n",
              "      <td>3.0</td>\n",
              "      <td>1.5</td>\n",
              "      <td>0.2</td>\n",
              "      <td>Iris-setosa</td>\n",
              "    </tr>\n",
              "    <tr>\n",
              "      <th>1</th>\n",
              "      <td>2</td>\n",
              "      <td>NaN</td>\n",
              "      <td>NaN</td>\n",
              "      <td>NaN</td>\n",
              "      <td>NaN</td>\n",
              "      <td>Iris-versicolor</td>\n",
              "    </tr>\n",
              "    <tr>\n",
              "      <th>2</th>\n",
              "      <td>3</td>\n",
              "      <td>NaN</td>\n",
              "      <td>NaN</td>\n",
              "      <td>NaN</td>\n",
              "      <td>NaN</td>\n",
              "      <td>Iris-virginica</td>\n",
              "    </tr>\n",
              "    <tr>\n",
              "      <th>3</th>\n",
              "      <td>4</td>\n",
              "      <td>NaN</td>\n",
              "      <td>NaN</td>\n",
              "      <td>NaN</td>\n",
              "      <td>NaN</td>\n",
              "      <td>NaN</td>\n",
              "    </tr>\n",
              "    <tr>\n",
              "      <th>4</th>\n",
              "      <td>5</td>\n",
              "      <td>NaN</td>\n",
              "      <td>NaN</td>\n",
              "      <td>NaN</td>\n",
              "      <td>NaN</td>\n",
              "      <td>NaN</td>\n",
              "    </tr>\n",
              "    <tr>\n",
              "      <th>...</th>\n",
              "      <td>...</td>\n",
              "      <td>...</td>\n",
              "      <td>...</td>\n",
              "      <td>...</td>\n",
              "      <td>...</td>\n",
              "      <td>...</td>\n",
              "    </tr>\n",
              "    <tr>\n",
              "      <th>145</th>\n",
              "      <td>146</td>\n",
              "      <td>NaN</td>\n",
              "      <td>NaN</td>\n",
              "      <td>NaN</td>\n",
              "      <td>NaN</td>\n",
              "      <td>NaN</td>\n",
              "    </tr>\n",
              "    <tr>\n",
              "      <th>146</th>\n",
              "      <td>147</td>\n",
              "      <td>NaN</td>\n",
              "      <td>NaN</td>\n",
              "      <td>NaN</td>\n",
              "      <td>NaN</td>\n",
              "      <td>NaN</td>\n",
              "    </tr>\n",
              "    <tr>\n",
              "      <th>147</th>\n",
              "      <td>148</td>\n",
              "      <td>NaN</td>\n",
              "      <td>NaN</td>\n",
              "      <td>NaN</td>\n",
              "      <td>NaN</td>\n",
              "      <td>NaN</td>\n",
              "    </tr>\n",
              "    <tr>\n",
              "      <th>148</th>\n",
              "      <td>149</td>\n",
              "      <td>NaN</td>\n",
              "      <td>NaN</td>\n",
              "      <td>NaN</td>\n",
              "      <td>NaN</td>\n",
              "      <td>NaN</td>\n",
              "    </tr>\n",
              "    <tr>\n",
              "      <th>149</th>\n",
              "      <td>150</td>\n",
              "      <td>NaN</td>\n",
              "      <td>NaN</td>\n",
              "      <td>NaN</td>\n",
              "      <td>NaN</td>\n",
              "      <td>NaN</td>\n",
              "    </tr>\n",
              "  </tbody>\n",
              "</table>\n",
              "<p>150 rows × 6 columns</p>\n",
              "</div>"
            ]
          },
          "metadata": {},
          "execution_count": 26
        }
      ],
      "metadata": {
        "id": "JGUHlDsu1saJ",
        "colab": {
          "base_uri": "https://localhost:8080/",
          "height": 452
        },
        "outputId": "58de62f5-c6c3-4c63-848a-c2a5896b8a52"
      }
    },
    {
      "cell_type": "code",
      "execution_count": 27,
      "source": [
        "print(\"\\nStd Dev\\n\")\r\n",
        "stddevInfo = telset.std()\r\n",
        "stddevInfo"
      ],
      "outputs": [
        {
          "output_type": "stream",
          "name": "stdout",
          "text": [
            "\n",
            "Std Dev\n",
            "\n"
          ]
        },
        {
          "output_type": "execute_result",
          "data": {
            "text/plain": [
              "Id               43.445368\n",
              "SepalLengthCm     0.828066\n",
              "SepalWidthCm      0.433594\n",
              "PetalLengthCm     1.764420\n",
              "PetalWidthCm      0.763161\n",
              "dtype: float64"
            ]
          },
          "metadata": {},
          "execution_count": 27
        }
      ],
      "metadata": {
        "id": "FcSiznpw2BE4",
        "colab": {
          "base_uri": "https://localhost:8080/"
        },
        "outputId": "9976d8cb-63fa-412b-bfd7-6ae67e3b81bc"
      }
    },
    {
      "cell_type": "code",
      "execution_count": 28,
      "source": [
        "print(\"\\nSkewness\\n\")\r\n",
        "skewnessInfo = telset.skew()\r\n",
        "skewnessInfo"
      ],
      "outputs": [
        {
          "output_type": "stream",
          "name": "stdout",
          "text": [
            "\n",
            "Skewness\n",
            "\n"
          ]
        },
        {
          "output_type": "execute_result",
          "data": {
            "text/plain": [
              "Id               0.000000\n",
              "SepalLengthCm    0.314911\n",
              "SepalWidthCm     0.334053\n",
              "PetalLengthCm   -0.274464\n",
              "PetalWidthCm    -0.104997\n",
              "dtype: float64"
            ]
          },
          "metadata": {},
          "execution_count": 28
        }
      ],
      "metadata": {
        "id": "HN4v0Q9Q2EUZ",
        "colab": {
          "base_uri": "https://localhost:8080/"
        },
        "outputId": "494fa44b-af3e-41e8-898e-b07e9d851160"
      }
    },
    {
      "cell_type": "markdown",
      "source": [
        "Data Transformation\n"
      ],
      "metadata": {
        "id": "fvBEteVXwbLc"
      }
    },
    {
      "cell_type": "code",
      "execution_count": 29,
      "source": [
        "from pandas import get_dummies\r\n",
        "\r\n",
        "telset['Species'].replace(to_replace = ['Iris-setosa', 'Iris-versicolor', 'Iris-virginica'], value =[1, 2, 3], inplace=True)\r\n",
        "\r\n",
        "print(\"Performing label encoding (since the columns are to be made nominal)\\n\")\r\n",
        "#Creating matrix X and y\r\n",
        "X = telset.drop(columns=['Species'])\r\n",
        "array = telset.values\r\n",
        "Y = array[:,5]\r\n",
        "\r\n",
        "#Encode type object to numerical\r\n",
        "X = pd.get_dummies(X)\r\n",
        "\r\n",
        "print(X)"
      ],
      "outputs": [
        {
          "output_type": "stream",
          "name": "stdout",
          "text": [
            "Performing label encoding (since the columns are to be made nominal)\n",
            "\n",
            "      Id  SepalLengthCm  SepalWidthCm  PetalLengthCm  PetalWidthCm\n",
            "0      1            5.1           3.5            1.4           0.2\n",
            "1      2            4.9           3.0            1.4           0.2\n",
            "2      3            4.7           3.2            1.3           0.2\n",
            "3      4            4.6           3.1            1.5           0.2\n",
            "4      5            5.0           3.6            1.4           0.2\n",
            "..   ...            ...           ...            ...           ...\n",
            "145  146            6.7           3.0            5.2           2.3\n",
            "146  147            6.3           2.5            5.0           1.9\n",
            "147  148            6.5           3.0            5.2           2.0\n",
            "148  149            6.2           3.4            5.4           2.3\n",
            "149  150            5.9           3.0            5.1           1.8\n",
            "\n",
            "[150 rows x 5 columns]\n"
          ]
        }
      ],
      "metadata": {
        "id": "cxXU42AJwezv",
        "colab": {
          "base_uri": "https://localhost:8080/"
        },
        "outputId": "92e84824-e93e-4c6d-95bb-0ba6f3f82553"
      }
    },
    {
      "cell_type": "markdown",
      "source": [
        "Feature matrix creation and min-max feature scaling (normalization)"
      ],
      "metadata": {
        "id": "18k4AWmJ-z1C"
      }
    },
    {
      "cell_type": "code",
      "execution_count": 30,
      "source": [
        "print(\"Feature Matrix\\n\")\r\n",
        "print(X)\r\n",
        "\r\n",
        "from sklearn import preprocessing \r\n",
        "print(\"\\n\\nNormalised Feature Matrix\\n\")\r\n",
        "scaler = preprocessing.MinMaxScaler() \r\n",
        "X_scaled = scaler.fit_transform(X)\r\n",
        "print(X_scaled)\r\n",
        "\r\n",
        "print(\"\\n\\nExpected Output Y\")\r\n",
        "y = Y\r\n",
        "y = y.reshape(len(y),)\r\n",
        "print(y)\r\n"
      ],
      "outputs": [
        {
          "output_type": "stream",
          "name": "stdout",
          "text": [
            "Feature Matrix\n",
            "\n",
            "      Id  SepalLengthCm  SepalWidthCm  PetalLengthCm  PetalWidthCm\n",
            "0      1            5.1           3.5            1.4           0.2\n",
            "1      2            4.9           3.0            1.4           0.2\n",
            "2      3            4.7           3.2            1.3           0.2\n",
            "3      4            4.6           3.1            1.5           0.2\n",
            "4      5            5.0           3.6            1.4           0.2\n",
            "..   ...            ...           ...            ...           ...\n",
            "145  146            6.7           3.0            5.2           2.3\n",
            "146  147            6.3           2.5            5.0           1.9\n",
            "147  148            6.5           3.0            5.2           2.0\n",
            "148  149            6.2           3.4            5.4           2.3\n",
            "149  150            5.9           3.0            5.1           1.8\n",
            "\n",
            "[150 rows x 5 columns]\n",
            "\n",
            "\n",
            "Normalised Feature Matrix\n",
            "\n",
            "[[0.         0.22222222 0.625      0.06779661 0.04166667]\n",
            " [0.00671141 0.16666667 0.41666667 0.06779661 0.04166667]\n",
            " [0.01342282 0.11111111 0.5        0.05084746 0.04166667]\n",
            " [0.02013423 0.08333333 0.45833333 0.08474576 0.04166667]\n",
            " [0.02684564 0.19444444 0.66666667 0.06779661 0.04166667]\n",
            " [0.03355705 0.30555556 0.79166667 0.11864407 0.125     ]\n",
            " [0.04026846 0.08333333 0.58333333 0.06779661 0.08333333]\n",
            " [0.04697987 0.19444444 0.58333333 0.08474576 0.04166667]\n",
            " [0.05369128 0.02777778 0.375      0.06779661 0.04166667]\n",
            " [0.06040268 0.16666667 0.45833333 0.08474576 0.        ]\n",
            " [0.06711409 0.30555556 0.70833333 0.08474576 0.04166667]\n",
            " [0.0738255  0.13888889 0.58333333 0.10169492 0.04166667]\n",
            " [0.08053691 0.13888889 0.41666667 0.06779661 0.        ]\n",
            " [0.08724832 0.         0.41666667 0.01694915 0.        ]\n",
            " [0.09395973 0.41666667 0.83333333 0.03389831 0.04166667]\n",
            " [0.10067114 0.38888889 1.         0.08474576 0.125     ]\n",
            " [0.10738255 0.30555556 0.79166667 0.05084746 0.125     ]\n",
            " [0.11409396 0.22222222 0.625      0.06779661 0.08333333]\n",
            " [0.12080537 0.38888889 0.75       0.11864407 0.08333333]\n",
            " [0.12751678 0.22222222 0.75       0.08474576 0.08333333]\n",
            " [0.13422819 0.30555556 0.58333333 0.11864407 0.04166667]\n",
            " [0.1409396  0.22222222 0.70833333 0.08474576 0.125     ]\n",
            " [0.14765101 0.08333333 0.66666667 0.         0.04166667]\n",
            " [0.15436242 0.22222222 0.54166667 0.11864407 0.16666667]\n",
            " [0.16107383 0.13888889 0.58333333 0.15254237 0.04166667]\n",
            " [0.16778523 0.19444444 0.41666667 0.10169492 0.04166667]\n",
            " [0.17449664 0.19444444 0.58333333 0.10169492 0.125     ]\n",
            " [0.18120805 0.25       0.625      0.08474576 0.04166667]\n",
            " [0.18791946 0.25       0.58333333 0.06779661 0.04166667]\n",
            " [0.19463087 0.11111111 0.5        0.10169492 0.04166667]\n",
            " [0.20134228 0.13888889 0.45833333 0.10169492 0.04166667]\n",
            " [0.20805369 0.30555556 0.58333333 0.08474576 0.125     ]\n",
            " [0.2147651  0.25       0.875      0.08474576 0.        ]\n",
            " [0.22147651 0.33333333 0.91666667 0.06779661 0.04166667]\n",
            " [0.22818792 0.16666667 0.45833333 0.08474576 0.        ]\n",
            " [0.23489933 0.19444444 0.5        0.03389831 0.04166667]\n",
            " [0.24161074 0.33333333 0.625      0.05084746 0.04166667]\n",
            " [0.24832215 0.16666667 0.45833333 0.08474576 0.        ]\n",
            " [0.25503356 0.02777778 0.41666667 0.05084746 0.04166667]\n",
            " [0.26174497 0.22222222 0.58333333 0.08474576 0.04166667]\n",
            " [0.26845638 0.19444444 0.625      0.05084746 0.08333333]\n",
            " [0.27516779 0.05555556 0.125      0.05084746 0.08333333]\n",
            " [0.28187919 0.02777778 0.5        0.05084746 0.04166667]\n",
            " [0.2885906  0.19444444 0.625      0.10169492 0.20833333]\n",
            " [0.29530201 0.22222222 0.75       0.15254237 0.125     ]\n",
            " [0.30201342 0.13888889 0.41666667 0.06779661 0.08333333]\n",
            " [0.30872483 0.22222222 0.75       0.10169492 0.04166667]\n",
            " [0.31543624 0.08333333 0.5        0.06779661 0.04166667]\n",
            " [0.32214765 0.27777778 0.70833333 0.08474576 0.04166667]\n",
            " [0.32885906 0.19444444 0.54166667 0.06779661 0.04166667]\n",
            " [0.33557047 0.75       0.5        0.62711864 0.54166667]\n",
            " [0.34228188 0.58333333 0.5        0.59322034 0.58333333]\n",
            " [0.34899329 0.72222222 0.45833333 0.66101695 0.58333333]\n",
            " [0.3557047  0.33333333 0.125      0.50847458 0.5       ]\n",
            " [0.36241611 0.61111111 0.33333333 0.61016949 0.58333333]\n",
            " [0.36912752 0.38888889 0.33333333 0.59322034 0.5       ]\n",
            " [0.37583893 0.55555556 0.54166667 0.62711864 0.625     ]\n",
            " [0.38255034 0.16666667 0.16666667 0.38983051 0.375     ]\n",
            " [0.38926174 0.63888889 0.375      0.61016949 0.5       ]\n",
            " [0.39597315 0.25       0.29166667 0.49152542 0.54166667]\n",
            " [0.40268456 0.19444444 0.         0.42372881 0.375     ]\n",
            " [0.40939597 0.44444444 0.41666667 0.54237288 0.58333333]\n",
            " [0.41610738 0.47222222 0.08333333 0.50847458 0.375     ]\n",
            " [0.42281879 0.5        0.375      0.62711864 0.54166667]\n",
            " [0.4295302  0.36111111 0.375      0.44067797 0.5       ]\n",
            " [0.43624161 0.66666667 0.45833333 0.57627119 0.54166667]\n",
            " [0.44295302 0.36111111 0.41666667 0.59322034 0.58333333]\n",
            " [0.44966443 0.41666667 0.29166667 0.52542373 0.375     ]\n",
            " [0.45637584 0.52777778 0.08333333 0.59322034 0.58333333]\n",
            " [0.46308725 0.36111111 0.20833333 0.49152542 0.41666667]\n",
            " [0.46979866 0.44444444 0.5        0.6440678  0.70833333]\n",
            " [0.47651007 0.5        0.33333333 0.50847458 0.5       ]\n",
            " [0.48322148 0.55555556 0.20833333 0.66101695 0.58333333]\n",
            " [0.48993289 0.5        0.33333333 0.62711864 0.45833333]\n",
            " [0.4966443  0.58333333 0.375      0.55932203 0.5       ]\n",
            " [0.5033557  0.63888889 0.41666667 0.57627119 0.54166667]\n",
            " [0.51006711 0.69444444 0.33333333 0.6440678  0.54166667]\n",
            " [0.51677852 0.66666667 0.41666667 0.6779661  0.66666667]\n",
            " [0.52348993 0.47222222 0.375      0.59322034 0.58333333]\n",
            " [0.53020134 0.38888889 0.25       0.42372881 0.375     ]\n",
            " [0.53691275 0.33333333 0.16666667 0.47457627 0.41666667]\n",
            " [0.54362416 0.33333333 0.16666667 0.45762712 0.375     ]\n",
            " [0.55033557 0.41666667 0.29166667 0.49152542 0.45833333]\n",
            " [0.55704698 0.47222222 0.29166667 0.69491525 0.625     ]\n",
            " [0.56375839 0.30555556 0.41666667 0.59322034 0.58333333]\n",
            " [0.5704698  0.47222222 0.58333333 0.59322034 0.625     ]\n",
            " [0.57718121 0.66666667 0.45833333 0.62711864 0.58333333]\n",
            " [0.58389262 0.55555556 0.125      0.57627119 0.5       ]\n",
            " [0.59060403 0.36111111 0.41666667 0.52542373 0.5       ]\n",
            " [0.59731544 0.33333333 0.20833333 0.50847458 0.5       ]\n",
            " [0.60402685 0.33333333 0.25       0.57627119 0.45833333]\n",
            " [0.61073826 0.5        0.41666667 0.61016949 0.54166667]\n",
            " [0.61744966 0.41666667 0.25       0.50847458 0.45833333]\n",
            " [0.62416107 0.19444444 0.125      0.38983051 0.375     ]\n",
            " [0.63087248 0.36111111 0.29166667 0.54237288 0.5       ]\n",
            " [0.63758389 0.38888889 0.41666667 0.54237288 0.45833333]\n",
            " [0.6442953  0.38888889 0.375      0.54237288 0.5       ]\n",
            " [0.65100671 0.52777778 0.375      0.55932203 0.5       ]\n",
            " [0.65771812 0.22222222 0.20833333 0.33898305 0.41666667]\n",
            " [0.66442953 0.38888889 0.33333333 0.52542373 0.5       ]\n",
            " [0.67114094 0.55555556 0.54166667 0.84745763 1.        ]\n",
            " [0.67785235 0.41666667 0.29166667 0.69491525 0.75      ]\n",
            " [0.68456376 0.77777778 0.41666667 0.83050847 0.83333333]\n",
            " [0.69127517 0.55555556 0.375      0.77966102 0.70833333]\n",
            " [0.69798658 0.61111111 0.41666667 0.81355932 0.875     ]\n",
            " [0.70469799 0.91666667 0.41666667 0.94915254 0.83333333]\n",
            " [0.7114094  0.16666667 0.20833333 0.59322034 0.66666667]\n",
            " [0.71812081 0.83333333 0.375      0.89830508 0.70833333]\n",
            " [0.72483221 0.66666667 0.20833333 0.81355932 0.70833333]\n",
            " [0.73154362 0.80555556 0.66666667 0.86440678 1.        ]\n",
            " [0.73825503 0.61111111 0.5        0.69491525 0.79166667]\n",
            " [0.74496644 0.58333333 0.29166667 0.72881356 0.75      ]\n",
            " [0.75167785 0.69444444 0.41666667 0.76271186 0.83333333]\n",
            " [0.75838926 0.38888889 0.20833333 0.6779661  0.79166667]\n",
            " [0.76510067 0.41666667 0.33333333 0.69491525 0.95833333]\n",
            " [0.77181208 0.58333333 0.5        0.72881356 0.91666667]\n",
            " [0.77852349 0.61111111 0.41666667 0.76271186 0.70833333]\n",
            " [0.7852349  0.94444444 0.75       0.96610169 0.875     ]\n",
            " [0.79194631 0.94444444 0.25       1.         0.91666667]\n",
            " [0.79865772 0.47222222 0.08333333 0.6779661  0.58333333]\n",
            " [0.80536913 0.72222222 0.5        0.79661017 0.91666667]\n",
            " [0.81208054 0.36111111 0.33333333 0.66101695 0.79166667]\n",
            " [0.81879195 0.94444444 0.33333333 0.96610169 0.79166667]\n",
            " [0.82550336 0.55555556 0.29166667 0.66101695 0.70833333]\n",
            " [0.83221477 0.66666667 0.54166667 0.79661017 0.83333333]\n",
            " [0.83892617 0.80555556 0.5        0.84745763 0.70833333]\n",
            " [0.84563758 0.52777778 0.33333333 0.6440678  0.70833333]\n",
            " [0.85234899 0.5        0.41666667 0.66101695 0.70833333]\n",
            " [0.8590604  0.58333333 0.33333333 0.77966102 0.83333333]\n",
            " [0.86577181 0.80555556 0.41666667 0.81355932 0.625     ]\n",
            " [0.87248322 0.86111111 0.33333333 0.86440678 0.75      ]\n",
            " [0.87919463 1.         0.75       0.91525424 0.79166667]\n",
            " [0.88590604 0.58333333 0.33333333 0.77966102 0.875     ]\n",
            " [0.89261745 0.55555556 0.33333333 0.69491525 0.58333333]\n",
            " [0.89932886 0.5        0.25       0.77966102 0.54166667]\n",
            " [0.90604027 0.94444444 0.41666667 0.86440678 0.91666667]\n",
            " [0.91275168 0.55555556 0.58333333 0.77966102 0.95833333]\n",
            " [0.91946309 0.58333333 0.45833333 0.76271186 0.70833333]\n",
            " [0.9261745  0.47222222 0.41666667 0.6440678  0.70833333]\n",
            " [0.93288591 0.72222222 0.45833333 0.74576271 0.83333333]\n",
            " [0.93959732 0.66666667 0.45833333 0.77966102 0.95833333]\n",
            " [0.94630872 0.72222222 0.45833333 0.69491525 0.91666667]\n",
            " [0.95302013 0.41666667 0.29166667 0.69491525 0.75      ]\n",
            " [0.95973154 0.69444444 0.5        0.83050847 0.91666667]\n",
            " [0.96644295 0.66666667 0.54166667 0.79661017 1.        ]\n",
            " [0.97315436 0.66666667 0.41666667 0.71186441 0.91666667]\n",
            " [0.97986577 0.55555556 0.20833333 0.6779661  0.75      ]\n",
            " [0.98657718 0.61111111 0.41666667 0.71186441 0.79166667]\n",
            " [0.99328859 0.52777778 0.58333333 0.74576271 0.91666667]\n",
            " [1.         0.44444444 0.41666667 0.69491525 0.70833333]]\n",
            "\n",
            "\n",
            "Expected Output Y\n"
          ]
        },
        {
          "output_type": "error",
          "ename": "NameError",
          "evalue": "name 'y' is not defined",
          "traceback": [
            "\u001b[1;31m---------------------------------------------------------------------------\u001b[0m",
            "\u001b[1;31mNameError\u001b[0m                                 Traceback (most recent call last)",
            "\u001b[1;32m<ipython-input-30-7d7c641f56a4>\u001b[0m in \u001b[0;36m<module>\u001b[1;34m\u001b[0m\n\u001b[0;32m      9\u001b[0m \u001b[1;33m\u001b[0m\u001b[0m\n\u001b[0;32m     10\u001b[0m \u001b[0mprint\u001b[0m\u001b[1;33m(\u001b[0m\u001b[1;34m\"\\n\\nExpected Output Y\"\u001b[0m\u001b[1;33m)\u001b[0m\u001b[1;33m\u001b[0m\u001b[1;33m\u001b[0m\u001b[0m\n\u001b[1;32m---> 11\u001b[1;33m \u001b[0my\u001b[0m \u001b[1;33m=\u001b[0m \u001b[0my\u001b[0m\u001b[1;33m.\u001b[0m\u001b[0mreshape\u001b[0m\u001b[1;33m(\u001b[0m\u001b[0mlen\u001b[0m\u001b[1;33m(\u001b[0m\u001b[0my\u001b[0m\u001b[1;33m)\u001b[0m\u001b[1;33m,\u001b[0m\u001b[1;33m)\u001b[0m\u001b[1;33m\u001b[0m\u001b[1;33m\u001b[0m\u001b[0m\n\u001b[0m\u001b[0;32m     12\u001b[0m \u001b[0mprint\u001b[0m\u001b[1;33m(\u001b[0m\u001b[0my\u001b[0m\u001b[1;33m)\u001b[0m\u001b[1;33m\u001b[0m\u001b[1;33m\u001b[0m\u001b[0m\n",
            "\u001b[1;31mNameError\u001b[0m: name 'y' is not defined"
          ]
        }
      ],
      "metadata": {
        "id": "-_MeSk3k55Yt",
        "colab": {
          "base_uri": "https://localhost:8080/"
        },
        "outputId": "4bc3f9cb-1a89-4302-b083-5b583e32b016"
      }
    },
    {
      "cell_type": "markdown",
      "source": [
        "Splitting dataset and training model"
      ],
      "metadata": {
        "id": "0nFe61hyFhbb"
      }
    },
    {
      "cell_type": "code",
      "execution_count": 124,
      "source": [
        "from sklearn.metrics import accuracy_score\r\n",
        "from sklearn.naive_bayes import GaussianNB\r\n",
        "from sklearn import model_selection\r\n",
        "from sklearn.model_selection import train_test_split\r\n",
        "\r\n",
        "seed = 7\r\n",
        "X_train, X_test, Y_train, Y_test = train_test_split(X_scaled, y, test_size=0.33, random_state=seed)\r\n",
        "\r\n",
        "#Initialize Gaussian Naive Bayes\r\n",
        "clf = GaussianNB()\r\n",
        "#Fitting the training set\r\n",
        "clf.fit(X_train, Y_train) \r\n",
        "#Predicting for the Test Set\r\n",
        "Y_pred = clf.predict(X_test)\r\n",
        "\r\n",
        "#Predicted Output\r\n",
        "print('Predicted Output Y')\r\n",
        "print(Y_pred)\r\n",
        "\r\n",
        "#Printing accuracy data\r\n",
        "kfold = model_selection.KFold(n_splits=10)\r\n",
        "\r\n",
        "#calling the cross validation function\r\n",
        "score = model_selection.cross_val_score(clf, X_test, Y_test, cv=kfold, scoring='accuracy')\r\n",
        "\r\n",
        "#Accuracy Score\r\n",
        "print('\\nScore : %.3f' % (score.mean()))"
      ],
      "outputs": [
        {
          "output_type": "stream",
          "name": "stdout",
          "text": [
            "Preicted Output Y\n",
            "[3 2 1 2 2 1 2 2 1 2 2 2 1 3 1 2 3 3 1 1 2 3 2 3 3 3 2 2 3 3 3 2 1 3 2 1 1\n",
            " 1 1 3 3 2 3 3 2 1 2 2 3 1]\n",
            "\n",
            "Score : 0.980\n"
          ]
        }
      ],
      "metadata": {
        "id": "LU1nj0OzFgWN",
        "colab": {
          "base_uri": "https://localhost:8080/"
        },
        "outputId": "d9ed317b-42ba-4ce1-f5ba-048d2db1362a"
      }
    }
  ]
}