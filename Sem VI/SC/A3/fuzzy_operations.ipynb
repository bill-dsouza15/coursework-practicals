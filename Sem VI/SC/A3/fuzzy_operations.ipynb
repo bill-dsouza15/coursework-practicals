{
  "nbformat": 4,
  "nbformat_minor": 2,
  "metadata": {
    "colab": {
      "name": "SCL_Assignment4.ipynb",
      "provenance": [],
      "collapsed_sections": []
    },
    "kernelspec": {
      "name": "python3",
      "display_name": "Python 3.8.5 64-bit"
    },
    "language_info": {
      "name": "python",
      "version": "3.8.5",
      "mimetype": "text/x-python",
      "codemirror_mode": {
        "name": "ipython",
        "version": 3
      },
      "pygments_lexer": "ipython3",
      "nbconvert_exporter": "python",
      "file_extension": ".py"
    },
    "interpreter": {
      "hash": "7d5c25a0dcd433e9174dbd40cc8162c4c651cca147fa234e40a811528338fdfd"
    }
  },
  "cells": [
    {
      "cell_type": "markdown",
      "source": [
        "1. Impement Union, Intersection, Complement and Difference operations on fuzzy sets.\r\n",
        "2. Also create fuzzy relation by Cartesian product of any two fuzzy sets and perform max-min composition on any two fuzzy relations."
      ],
      "metadata": {
        "id": "zDKAa1qKCmo3"
      }
    },
    {
      "cell_type": "code",
      "execution_count": 1,
      "source": [
        "import numpy as np\r\n",
        "import pandas as pd"
      ],
      "outputs": [],
      "metadata": {
        "id": "l9erqOx7uHjR"
      }
    },
    {
      "cell_type": "code",
      "execution_count": 2,
      "source": [
        "def union(R, S):\r\n",
        "  Y = dict()\r\n",
        "  i = 1\r\n",
        "  for x,y in zip(R,S):\r\n",
        "    key = \"z\"+str(i)\r\n",
        "    # Finding max degree of membership between the two\r\n",
        "    if R[x] > S[y]:\r\n",
        "      Y[key] = R[x]\r\n",
        "    else:\r\n",
        "      Y[key] = S[y]\r\n",
        "    i += 1\r\n",
        "  return Y"
      ],
      "outputs": [],
      "metadata": {
        "id": "RnHsLWmZySK8"
      }
    },
    {
      "cell_type": "code",
      "execution_count": 3,
      "source": [
        "def intersection(R, S):\r\n",
        "  Y = dict()\r\n",
        "  i = 1\r\n",
        "  for x,y in zip(R,S):\r\n",
        "    key = \"z\"+str(i)\r\n",
        "    # Finding min degree of membership between the two\r\n",
        "    if R[x] < S[y]:\r\n",
        "      Y[key] = R[x]\r\n",
        "    else:\r\n",
        "      Y[key] = S[y]\r\n",
        "    i += 1\r\n",
        "  return Y"
      ],
      "outputs": [],
      "metadata": {
        "id": "02leKe6I1HBo"
      }
    },
    {
      "cell_type": "code",
      "execution_count": 4,
      "source": [
        "def complement(D):\r\n",
        "  Y = dict()\r\n",
        "  i = 1\r\n",
        "  for k,v in D.items():\r\n",
        "    key = \"z\"+str(i)\r\n",
        "    # Finding complement of degree of membership\r\n",
        "    Y[key] = 1 - v\r\n",
        "    i += 1\r\n",
        "  return Y"
      ],
      "outputs": [],
      "metadata": {
        "id": "4RLg3nos2qGe"
      }
    },
    {
      "cell_type": "code",
      "execution_count": 5,
      "source": [
        "def difference(R, S):\r\n",
        "  Y = dict()\r\n",
        "  i = 1\r\n",
        "  for x,y in zip(R,S):\r\n",
        "    key = \"z\"+str(i)\r\n",
        "    # Finding min between degree of membership of R and complement of S (u(R) n ~u(S))\r\n",
        "    if R[x] < (1-S[y]):\r\n",
        "      Y[key] = R[x]\r\n",
        "    else:\r\n",
        "      Y[key] = (1-S[y])\r\n",
        "    i += 1\r\n",
        "  return Y"
      ],
      "outputs": [],
      "metadata": {
        "id": "Ke07KTdj9jco"
      }
    },
    {
      "cell_type": "code",
      "execution_count": 6,
      "source": [
        "def relation(R, S):\r\n",
        "  arrL = list()\r\n",
        "\r\n",
        "  for k,v in S.items():\r\n",
        "    # Product for x1 in R\r\n",
        "    if R['x1'] < v:\r\n",
        "      arrL.append(R['x1'])\r\n",
        "    else:\r\n",
        "      arrL.append(v)\r\n",
        "  arr = np.array(arrL)\r\n",
        "  arrL.clear()\r\n",
        "\r\n",
        "  for k1,v1 in R.items():\r\n",
        "    # Product for remaining elements in set R\r\n",
        "    if k1 == 'x1':\r\n",
        "      continue\r\n",
        "    for k,v in S.items():\r\n",
        "      if v1 < v:\r\n",
        "        arrL.append(v1)\r\n",
        "      else:\r\n",
        "        arrL.append(v)\r\n",
        "    # Add row to array\r\n",
        "    arr = np.vstack([arr, arrL])\r\n",
        "    # Clear temp list\r\n",
        "    arrL.clear()\r\n",
        "  return arr"
      ],
      "outputs": [],
      "metadata": {
        "id": "P8ABHFMirfu3"
      }
    },
    {
      "cell_type": "code",
      "execution_count": 7,
      "source": [
        "def composition(R, S):\r\n",
        "  # Fetching the dimensions of R (X, Y) and S (Y, Z)\r\n",
        "  Rrow, Rcol = R.shape\r\n",
        "  Srow, Scol = S.shape\r\n",
        "\r\n",
        "  # Creating empty array to store the composition with 1 row and Scol (Z) columns\r\n",
        "  arr = np.empty((1,Scol))\r\n",
        "  # Temp array to hold the elements of a row in arr\r\n",
        "  arrL = list()\r\n",
        "  # Temp array to hold all the min elements\r\n",
        "  min = list()\r\n",
        "\r\n",
        "  for i in range(0, Rrow):\r\n",
        "    for j in range(0, Scol):\r\n",
        "      for k in range(0,Rcol):\r\n",
        "        # Comparison to find the min\r\n",
        "        if R[i][k] < S[k][j]:\r\n",
        "          min.append(R[i][k])\r\n",
        "        else:\r\n",
        "          min.append(S[k][j])\r\n",
        "      # Sort min array to find the max\r\n",
        "      min.sort(reverse=True)\r\n",
        "      # Add max element to temp row array\r\n",
        "      arrL.append(min[0])\r\n",
        "      min.clear()\r\n",
        "    # Add temp row array o composition\r\n",
        "    arr = np.vstack([arr, arrL])\r\n",
        "    arrL.clear()\r\n",
        "  arr = np.delete(arr,0,0)\r\n",
        "  return arr"
      ],
      "outputs": [],
      "metadata": {
        "id": "d0zHeBG0zRCN"
      }
    },
    {
      "cell_type": "code",
      "execution_count": 8,
      "source": [
        "R = dict()\r\n",
        "S = dict()\r\n",
        "\r\n",
        "R = {\"x1\": 0.3, \"x2\": 0.4, \"x3\": 0.5, \"x4\": 0.3}\r\n",
        "S = {\"y1\": 0.2, \"y2\": 0.1, \"y3\": 0.2, \"y4\": 0.5}\r\n",
        "\r\n",
        "print(\"R : \",R)\r\n",
        "print(\"S : \",S)\r\n",
        "\r\n",
        "print(\"\\n\")\r\n",
        "\r\n",
        "RUS = dict()\r\n",
        "RUS = union(R,S)\r\n",
        "print(\"Union\")\r\n",
        "print(\"R U S : \", RUS)\r\n",
        "\r\n",
        "print(\"\\n\")\r\n",
        "\r\n",
        "RnS = dict()\r\n",
        "RnS = intersection(R,S)\r\n",
        "print(\"Intersection\")\r\n",
        "print(\"R n S : \", RnS)\r\n",
        "\r\n",
        "print(\"\\n\")\r\n",
        "\r\n",
        "cR = dict()\r\n",
        "cR = complement(R)\r\n",
        "print(\"Complement\")\r\n",
        "print(\"~R : \", cR)\r\n",
        "cS = dict()\r\n",
        "cS = complement(S)\r\n",
        "print(\"~S : \", cS)\r\n",
        "\r\n",
        "print(\"\\n\")\r\n",
        "\r\n",
        "RmS = dict()\r\n",
        "RmS = difference(R,S)\r\n",
        "print(\"Difference\")\r\n",
        "print(\"R \\ S : \", RmS)\r\n",
        "\r\n",
        "print(\"\\n\")\r\n",
        "\r\n",
        "RxS = relation(R,S)\r\n",
        "print(\"Cartesian Product (Fuzzy Relation)\")\r\n",
        "print(\"R x S : \")\r\n",
        "for row in RxS:\r\n",
        "  print(row)"
      ],
      "outputs": [
        {
          "output_type": "stream",
          "name": "stdout",
          "text": [
            "R :  {'x1': 0.3, 'x2': 0.4, 'x3': 0.5, 'x4': 0.3}\n",
            "S :  {'y1': 0.2, 'y2': 0.1, 'y3': 0.2, 'y4': 0.5}\n",
            "\n",
            "\n",
            "Union\n",
            "R U S :  {'z1': 0.3, 'z2': 0.4, 'z3': 0.5, 'z4': 0.5}\n",
            "\n",
            "\n",
            "Intersection\n",
            "R n S :  {'z1': 0.2, 'z2': 0.1, 'z3': 0.2, 'z4': 0.3}\n",
            "\n",
            "\n",
            "Complement\n",
            "~R :  {'z1': 0.7, 'z2': 0.6, 'z3': 0.5, 'z4': 0.7}\n",
            "~S :  {'z1': 0.8, 'z2': 0.9, 'z3': 0.8, 'z4': 0.5}\n",
            "\n",
            "\n",
            "Difference\n",
            "R \\ S :  {'z1': 0.3, 'z2': 0.4, 'z3': 0.5, 'z4': 0.3}\n",
            "\n",
            "\n",
            "Cartesian Product (Fuzzy Relation)\n",
            "R x S : \n",
            "[0.2 0.1 0.2 0.3]\n",
            "[0.2 0.1 0.2 0.4]\n",
            "[0.2 0.1 0.2 0.5]\n",
            "[0.2 0.1 0.2 0.3]\n"
          ]
        }
      ],
      "metadata": {
        "colab": {
          "base_uri": "https://localhost:8080/"
        },
        "id": "ReeSqsHaxnXw",
        "outputId": "761b0a4b-7e68-4922-aa43-d917e34c4003"
      }
    },
    {
      "cell_type": "code",
      "execution_count": 9,
      "source": [
        "print(\"Consider two relations\")\r\n",
        "print('R(XxY) : ')\r\n",
        "Rxy = np.array([[0.7, 0.5], [0.8, 0.4]])\r\n",
        "print(Rxy)\r\n",
        "print(\"\\n\")\r\n",
        "print('S(YxZ) : ')\r\n",
        "Syz = np.array([[0.9, 0.6, 0.2], [0.1, 0.7, 0.5]])\r\n",
        "print(Syz)\r\n",
        "print(\"\\n\")\r\n",
        "RoS = composition(Rxy,Syz)\r\n",
        "print(\"Composition\")\r\n",
        "print(\"R o S : \")\r\n",
        "for row in RoS:\r\n",
        "  print(row)"
      ],
      "outputs": [
        {
          "output_type": "stream",
          "name": "stdout",
          "text": [
            "Consider two relations\n",
            "R(XxY) : \n",
            "[[0.7 0.5]\n",
            " [0.8 0.4]]\n",
            "\n",
            "\n",
            "S(YxZ) : \n",
            "[[0.9 0.6 0.2]\n",
            " [0.1 0.7 0.5]]\n",
            "\n",
            "\n",
            "Composition\n",
            "R o S : \n",
            "[0.7 0.6 0.5]\n",
            "[0.8 0.6 0.4]\n"
          ]
        }
      ],
      "metadata": {
        "colab": {
          "base_uri": "https://localhost:8080/"
        },
        "id": "Frpwqpqn2l6p",
        "outputId": "b86f77ac-2ca8-4882-c4c9-a1ce4cb1d9af"
      }
    }
  ]
}