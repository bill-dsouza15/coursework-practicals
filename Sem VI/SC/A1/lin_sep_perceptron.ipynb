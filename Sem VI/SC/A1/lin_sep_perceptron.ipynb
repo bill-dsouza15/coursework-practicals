{
  "nbformat": 4,
  "nbformat_minor": 2,
  "metadata": {
    "colab": {
      "name": "SCL_Assignment2.ipynb",
      "provenance": [],
      "collapsed_sections": []
    },
    "kernelspec": {
      "name": "python3",
      "display_name": "Python 3.8.5 64-bit"
    },
    "language_info": {
      "name": "python",
      "version": "3.8.5",
      "mimetype": "text/x-python",
      "codemirror_mode": {
        "name": "ipython",
        "version": 3
      },
      "pygments_lexer": "ipython3",
      "nbconvert_exporter": "python",
      "file_extension": ".py"
    },
    "interpreter": {
      "hash": "7d5c25a0dcd433e9174dbd40cc8162c4c651cca147fa234e40a811528338fdfd"
    }
  },
  "cells": [
    {
      "cell_type": "markdown",
      "source": [
        "#### Write a program for solving linearly seperable problem using Perceptron Model."
      ],
      "metadata": {
        "id": "gjeO8EwAH7RP"
      }
    },
    {
      "cell_type": "code",
      "execution_count": 1,
      "source": [
        "def calcYo(x0, x1, x2, wo, w1, w2):\r\n",
        "  Yo = list()\r\n",
        "  for i in range(0,2**n):\r\n",
        "    output = (x0[i]*w0) + (x1[i]*w1) + (x2[i]*w2)\r\n",
        "    if output >= 0:\r\n",
        "      Yo.append(1)\r\n",
        "    elif output < 0:\r\n",
        "      Yo.append(0)\r\n",
        "  return Yo"
      ],
      "outputs": [],
      "metadata": {
        "id": "vH-gb4WPZcYp"
      }
    },
    {
      "cell_type": "code",
      "execution_count": 2,
      "source": [
        "def calcCount(Yo, Ye):\r\n",
        "  i = 0\r\n",
        "  count = 0\r\n",
        "  for x in Yo:\r\n",
        "    if x == Ye[i]:\r\n",
        "      count = count + 1\r\n",
        "      i = i + 1\r\n",
        "  return count"
      ],
      "outputs": [],
      "metadata": {
        "id": "JmTSOL2gZ3I3"
      }
    },
    {
      "cell_type": "code",
      "execution_count": 3,
      "source": [
        "# Assuming 2 inputs\r\n",
        "n = 2\r\n",
        "\r\n",
        "# X0\r\n",
        "x0 = [1,1,1,1]\r\n",
        "# x1\r\n",
        "x1 = [1,1,0,0]\r\n",
        "# x2\r\n",
        "x2 = [1,0,1,0]\r\n",
        "# Expect Y\r\n",
        "Ye = [1,1,1,0]\r\n",
        "\r\n",
        "print(\"\\nx1 : \",x1)\r\n",
        "print(\"\\nx2 : \",x2)\r\n",
        "print(\"\\nYe : \",Ye)\r\n",
        "\r\n",
        "# Theta w0 & Weights w1 and w2\r\n",
        "print(\"\\nEnter theta\")\r\n",
        "w0 = float(input())\r\n",
        "print(\"\\nEnter w1\")\r\n",
        "w1 = float(input())\r\n",
        "print(\"\\nEnter w2\")\r\n",
        "w2 = float(input())\r\n",
        "\r\n",
        "# Calculating Yo (Output Y)\r\n",
        "Yo = calcYo(x0, x1, x2, w0, w1, w2) \r\n",
        "print(\"\\nYo : \",Yo)\r\n",
        "\r\n",
        "# Comparing values\r\n",
        "count = calcCount(Yo, Ye)\r\n",
        "print(\"\\nCount : \",count)\r\n",
        "\r\n",
        "print(\"\\n\")\r\n",
        "\r\n",
        "print(\"\\nTRAINING\")\r\n",
        "\r\n",
        "# Weight adjustments\r\n",
        "while count!=4:\r\n",
        "  for i in range(0,2**n):\r\n",
        "    nw0 = w0 + ((Ye[i] - Yo[i]) * x0[i])\r\n",
        "    w0 = nw0\r\n",
        "    nw1 = w1 + ((Ye[i] - Yo[i]) * x1[i])\r\n",
        "    w1 = nw1\r\n",
        "    nw2 = w2 + ((Ye[i] - Yo[i]) * x2[i])\r\n",
        "    w2 = nw2\r\n",
        "    \r\n",
        "  print(\"\\nw0 : \",w0)\r\n",
        "  print(\"\\nw1 : \",w1)\r\n",
        "  print(\"\\nw2 : \",w2)\r\n",
        "\r\n",
        "  Yo = calcYo(x0, x1, x2, w0, w1, w2) \r\n",
        "  print(\"\\nYo : \",Yo)\r\n",
        "\r\n",
        "  count = calcCount(Yo, Ye)\r\n",
        "  print(\"\\nCount : \",count)\r\n",
        "  print(\"\\n\")\r\n",
        "    \r\n",
        "print(\"\\nFINAL WEIGHTS\")\r\n",
        "print(\"\\nw0 : \",w0)\r\n",
        "print(\"\\nw1 : \",w1)\r\n",
        "print(\"\\nw2 : \",w2)"
      ],
      "outputs": [
        {
          "output_type": "stream",
          "name": "stdout",
          "text": [
            "\n",
            "x1 :  [1, 1, 0, 0]\n",
            "\n",
            "x2 :  [1, 0, 1, 0]\n",
            "\n",
            "Ye :  [1, 1, 1, 0]\n",
            "\n",
            "Enter theta\n",
            "\n",
            "Enter w1\n",
            "\n",
            "Enter w2\n",
            "\n",
            "Yo :  [1, 1, 1, 1]\n",
            "\n",
            "Count :  3\n",
            "\n",
            "\n",
            "\n",
            "TRAINING\n",
            "\n",
            "w0 :  0.0\n",
            "\n",
            "w1 :  0.0\n",
            "\n",
            "w2 :  -0.5\n",
            "\n",
            "Yo :  [0, 1, 0, 1]\n",
            "\n",
            "Count :  2\n",
            "\n",
            "\n",
            "\n",
            "w0 :  1.0\n",
            "\n",
            "w1 :  1.0\n",
            "\n",
            "w2 :  1.5\n",
            "\n",
            "Yo :  [1, 1, 1, 1]\n",
            "\n",
            "Count :  3\n",
            "\n",
            "\n",
            "\n",
            "w0 :  0.0\n",
            "\n",
            "w1 :  1.0\n",
            "\n",
            "w2 :  1.5\n",
            "\n",
            "Yo :  [1, 1, 1, 1]\n",
            "\n",
            "Count :  3\n",
            "\n",
            "\n",
            "\n",
            "w0 :  -1.0\n",
            "\n",
            "w1 :  1.0\n",
            "\n",
            "w2 :  1.5\n",
            "\n",
            "Yo :  [1, 1, 1, 0]\n",
            "\n",
            "Count :  4\n",
            "\n",
            "\n",
            "\n",
            "FINAL WEIGHTS\n",
            "\n",
            "w0 :  -1.0\n",
            "\n",
            "w1 :  1.0\n",
            "\n",
            "w2 :  1.5\n"
          ]
        }
      ],
      "metadata": {
        "colab": {
          "base_uri": "https://localhost:8080/"
        },
        "id": "bCKbaOgKJlS7",
        "outputId": "97123633-8165-4e8d-b0ff-ac64084da2a1"
      }
    }
  ]
}