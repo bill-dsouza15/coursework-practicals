{
  "nbformat": 4,
  "nbformat_minor": 2,
  "metadata": {
    "colab": {
      "name": "Assignment4.ipynb",
      "provenance": [],
      "collapsed_sections": []
    },
    "kernelspec": {
      "name": "python3",
      "display_name": "Python 3.8.5 64-bit"
    },
    "language_info": {
      "name": "python",
      "version": "3.8.5",
      "mimetype": "text/x-python",
      "codemirror_mode": {
        "name": "ipython",
        "version": 3
      },
      "pygments_lexer": "ipython3",
      "nbconvert_exporter": "python",
      "file_extension": ".py"
    },
    "interpreter": {
      "hash": "7d5c25a0dcd433e9174dbd40cc8162c4c651cca147fa234e40a811528338fdfd"
    }
  },
  "cells": [
    {
      "cell_type": "markdown",
      "source": [
        "1. Build a Data model in Python using any classification model (Decision Tree or  Naïve Bayes) and infer the result using accuracy score.\n",
        "2. Compare different classification models (not limited to NB and DT only) with respect to feature selection and accuracy. Infer the result: Which model is best suited for the dataset chosen?"
      ],
      "metadata": {
        "id": "rEbqY0CS5bvZ"
      }
    },
    {
      "cell_type": "markdown",
      "source": [
        "Displaying general information"
      ],
      "metadata": {
        "id": "kBOg3CBxtFaw"
      }
    },
    {
      "cell_type": "code",
      "execution_count": 35,
      "source": [
        "import pandas as pd\r\n",
        "import numpy as np\r\n",
        "\r\n",
        "telset = pd.read_csv('DS\\\\A4\\\\Dataset\\\\bank-additional-full.csv')\r\n",
        "telset"
      ],
      "outputs": [
        {
          "output_type": "execute_result",
          "data": {
            "text/plain": [
              "      age          job   marital            education  default  housing  \\\n",
              "0      56    housemaid   married             basic.4y       no       no   \n",
              "1      40       admin.   married             basic.6y       no       no   \n",
              "2      56     services   married          high.school       no       no   \n",
              "3      45     services   married             basic.9y  unknown       no   \n",
              "4      59       admin.   married  professional.course       no       no   \n",
              "...   ...          ...       ...                  ...      ...      ...   \n",
              "9995   39  blue-collar   married             basic.4y  unknown      yes   \n",
              "9996   36   technician   married          high.school       no      yes   \n",
              "9997   33     services    single             basic.6y       no  unknown   \n",
              "9998   41   technician   married  professional.course  unknown      yes   \n",
              "9999   40     services  divorced              unknown       no      yes   \n",
              "\n",
              "         loan    contact month day_of_week  ...  campaign  pdays  previous  \\\n",
              "0          no  telephone   may         mon  ...         1    999         0   \n",
              "1          no  telephone   may         mon  ...         1    999         0   \n",
              "2         yes  telephone   may         mon  ...         1    999         0   \n",
              "3          no  telephone   may         mon  ...         1    999         0   \n",
              "4          no  telephone   may         mon  ...         1    999         0   \n",
              "...       ...        ...   ...         ...  ...       ...    ...       ...   \n",
              "9995       no  telephone   jun         wed  ...         3    999         0   \n",
              "9996       no  telephone   jun         wed  ...         2    999         0   \n",
              "9997  unknown  telephone   jun         wed  ...         4    999         0   \n",
              "9998       no  telephone   jun         wed  ...         3    999         0   \n",
              "9999      yes  telephone   jun         wed  ...        29    999         0   \n",
              "\n",
              "         poutcome emp_var_rate  cons_price_idx  cons_conf_idx  euribor3m  \\\n",
              "0     nonexistent          1.1          93.994          -36.4      4.857   \n",
              "1     nonexistent          1.1          93.994          -36.4      4.857   \n",
              "2     nonexistent          1.1          93.994          -36.4      4.857   \n",
              "3     nonexistent          1.1          93.994          -36.4      4.857   \n",
              "4     nonexistent          1.1          93.994          -36.4      4.857   \n",
              "...           ...          ...             ...            ...        ...   \n",
              "9995  nonexistent          1.4          94.465          -41.8      4.959   \n",
              "9996  nonexistent          1.4          94.465          -41.8      4.959   \n",
              "9997  nonexistent          1.4          94.465          -41.8      4.959   \n",
              "9998  nonexistent          1.4          94.465          -41.8      4.959   \n",
              "9999  nonexistent          1.4          94.465          -41.8      4.959   \n",
              "\n",
              "      nr_employed      y  \n",
              "0          5191.0  False  \n",
              "1          5191.0  False  \n",
              "2          5191.0  False  \n",
              "3          5191.0  False  \n",
              "4          5191.0  False  \n",
              "...           ...    ...  \n",
              "9995       5228.1  False  \n",
              "9996       5228.1  False  \n",
              "9997       5228.1  False  \n",
              "9998       5228.1   True  \n",
              "9999       5228.1  False  \n",
              "\n",
              "[10000 rows x 21 columns]"
            ],
            "text/html": [
              "<div>\n",
              "<style scoped>\n",
              "    .dataframe tbody tr th:only-of-type {\n",
              "        vertical-align: middle;\n",
              "    }\n",
              "\n",
              "    .dataframe tbody tr th {\n",
              "        vertical-align: top;\n",
              "    }\n",
              "\n",
              "    .dataframe thead th {\n",
              "        text-align: right;\n",
              "    }\n",
              "</style>\n",
              "<table border=\"1\" class=\"dataframe\">\n",
              "  <thead>\n",
              "    <tr style=\"text-align: right;\">\n",
              "      <th></th>\n",
              "      <th>age</th>\n",
              "      <th>job</th>\n",
              "      <th>marital</th>\n",
              "      <th>education</th>\n",
              "      <th>default</th>\n",
              "      <th>housing</th>\n",
              "      <th>loan</th>\n",
              "      <th>contact</th>\n",
              "      <th>month</th>\n",
              "      <th>day_of_week</th>\n",
              "      <th>...</th>\n",
              "      <th>campaign</th>\n",
              "      <th>pdays</th>\n",
              "      <th>previous</th>\n",
              "      <th>poutcome</th>\n",
              "      <th>emp_var_rate</th>\n",
              "      <th>cons_price_idx</th>\n",
              "      <th>cons_conf_idx</th>\n",
              "      <th>euribor3m</th>\n",
              "      <th>nr_employed</th>\n",
              "      <th>y</th>\n",
              "    </tr>\n",
              "  </thead>\n",
              "  <tbody>\n",
              "    <tr>\n",
              "      <th>0</th>\n",
              "      <td>56</td>\n",
              "      <td>housemaid</td>\n",
              "      <td>married</td>\n",
              "      <td>basic.4y</td>\n",
              "      <td>no</td>\n",
              "      <td>no</td>\n",
              "      <td>no</td>\n",
              "      <td>telephone</td>\n",
              "      <td>may</td>\n",
              "      <td>mon</td>\n",
              "      <td>...</td>\n",
              "      <td>1</td>\n",
              "      <td>999</td>\n",
              "      <td>0</td>\n",
              "      <td>nonexistent</td>\n",
              "      <td>1.1</td>\n",
              "      <td>93.994</td>\n",
              "      <td>-36.4</td>\n",
              "      <td>4.857</td>\n",
              "      <td>5191.0</td>\n",
              "      <td>False</td>\n",
              "    </tr>\n",
              "    <tr>\n",
              "      <th>1</th>\n",
              "      <td>40</td>\n",
              "      <td>admin.</td>\n",
              "      <td>married</td>\n",
              "      <td>basic.6y</td>\n",
              "      <td>no</td>\n",
              "      <td>no</td>\n",
              "      <td>no</td>\n",
              "      <td>telephone</td>\n",
              "      <td>may</td>\n",
              "      <td>mon</td>\n",
              "      <td>...</td>\n",
              "      <td>1</td>\n",
              "      <td>999</td>\n",
              "      <td>0</td>\n",
              "      <td>nonexistent</td>\n",
              "      <td>1.1</td>\n",
              "      <td>93.994</td>\n",
              "      <td>-36.4</td>\n",
              "      <td>4.857</td>\n",
              "      <td>5191.0</td>\n",
              "      <td>False</td>\n",
              "    </tr>\n",
              "    <tr>\n",
              "      <th>2</th>\n",
              "      <td>56</td>\n",
              "      <td>services</td>\n",
              "      <td>married</td>\n",
              "      <td>high.school</td>\n",
              "      <td>no</td>\n",
              "      <td>no</td>\n",
              "      <td>yes</td>\n",
              "      <td>telephone</td>\n",
              "      <td>may</td>\n",
              "      <td>mon</td>\n",
              "      <td>...</td>\n",
              "      <td>1</td>\n",
              "      <td>999</td>\n",
              "      <td>0</td>\n",
              "      <td>nonexistent</td>\n",
              "      <td>1.1</td>\n",
              "      <td>93.994</td>\n",
              "      <td>-36.4</td>\n",
              "      <td>4.857</td>\n",
              "      <td>5191.0</td>\n",
              "      <td>False</td>\n",
              "    </tr>\n",
              "    <tr>\n",
              "      <th>3</th>\n",
              "      <td>45</td>\n",
              "      <td>services</td>\n",
              "      <td>married</td>\n",
              "      <td>basic.9y</td>\n",
              "      <td>unknown</td>\n",
              "      <td>no</td>\n",
              "      <td>no</td>\n",
              "      <td>telephone</td>\n",
              "      <td>may</td>\n",
              "      <td>mon</td>\n",
              "      <td>...</td>\n",
              "      <td>1</td>\n",
              "      <td>999</td>\n",
              "      <td>0</td>\n",
              "      <td>nonexistent</td>\n",
              "      <td>1.1</td>\n",
              "      <td>93.994</td>\n",
              "      <td>-36.4</td>\n",
              "      <td>4.857</td>\n",
              "      <td>5191.0</td>\n",
              "      <td>False</td>\n",
              "    </tr>\n",
              "    <tr>\n",
              "      <th>4</th>\n",
              "      <td>59</td>\n",
              "      <td>admin.</td>\n",
              "      <td>married</td>\n",
              "      <td>professional.course</td>\n",
              "      <td>no</td>\n",
              "      <td>no</td>\n",
              "      <td>no</td>\n",
              "      <td>telephone</td>\n",
              "      <td>may</td>\n",
              "      <td>mon</td>\n",
              "      <td>...</td>\n",
              "      <td>1</td>\n",
              "      <td>999</td>\n",
              "      <td>0</td>\n",
              "      <td>nonexistent</td>\n",
              "      <td>1.1</td>\n",
              "      <td>93.994</td>\n",
              "      <td>-36.4</td>\n",
              "      <td>4.857</td>\n",
              "      <td>5191.0</td>\n",
              "      <td>False</td>\n",
              "    </tr>\n",
              "    <tr>\n",
              "      <th>...</th>\n",
              "      <td>...</td>\n",
              "      <td>...</td>\n",
              "      <td>...</td>\n",
              "      <td>...</td>\n",
              "      <td>...</td>\n",
              "      <td>...</td>\n",
              "      <td>...</td>\n",
              "      <td>...</td>\n",
              "      <td>...</td>\n",
              "      <td>...</td>\n",
              "      <td>...</td>\n",
              "      <td>...</td>\n",
              "      <td>...</td>\n",
              "      <td>...</td>\n",
              "      <td>...</td>\n",
              "      <td>...</td>\n",
              "      <td>...</td>\n",
              "      <td>...</td>\n",
              "      <td>...</td>\n",
              "      <td>...</td>\n",
              "      <td>...</td>\n",
              "    </tr>\n",
              "    <tr>\n",
              "      <th>9995</th>\n",
              "      <td>39</td>\n",
              "      <td>blue-collar</td>\n",
              "      <td>married</td>\n",
              "      <td>basic.4y</td>\n",
              "      <td>unknown</td>\n",
              "      <td>yes</td>\n",
              "      <td>no</td>\n",
              "      <td>telephone</td>\n",
              "      <td>jun</td>\n",
              "      <td>wed</td>\n",
              "      <td>...</td>\n",
              "      <td>3</td>\n",
              "      <td>999</td>\n",
              "      <td>0</td>\n",
              "      <td>nonexistent</td>\n",
              "      <td>1.4</td>\n",
              "      <td>94.465</td>\n",
              "      <td>-41.8</td>\n",
              "      <td>4.959</td>\n",
              "      <td>5228.1</td>\n",
              "      <td>False</td>\n",
              "    </tr>\n",
              "    <tr>\n",
              "      <th>9996</th>\n",
              "      <td>36</td>\n",
              "      <td>technician</td>\n",
              "      <td>married</td>\n",
              "      <td>high.school</td>\n",
              "      <td>no</td>\n",
              "      <td>yes</td>\n",
              "      <td>no</td>\n",
              "      <td>telephone</td>\n",
              "      <td>jun</td>\n",
              "      <td>wed</td>\n",
              "      <td>...</td>\n",
              "      <td>2</td>\n",
              "      <td>999</td>\n",
              "      <td>0</td>\n",
              "      <td>nonexistent</td>\n",
              "      <td>1.4</td>\n",
              "      <td>94.465</td>\n",
              "      <td>-41.8</td>\n",
              "      <td>4.959</td>\n",
              "      <td>5228.1</td>\n",
              "      <td>False</td>\n",
              "    </tr>\n",
              "    <tr>\n",
              "      <th>9997</th>\n",
              "      <td>33</td>\n",
              "      <td>services</td>\n",
              "      <td>single</td>\n",
              "      <td>basic.6y</td>\n",
              "      <td>no</td>\n",
              "      <td>unknown</td>\n",
              "      <td>unknown</td>\n",
              "      <td>telephone</td>\n",
              "      <td>jun</td>\n",
              "      <td>wed</td>\n",
              "      <td>...</td>\n",
              "      <td>4</td>\n",
              "      <td>999</td>\n",
              "      <td>0</td>\n",
              "      <td>nonexistent</td>\n",
              "      <td>1.4</td>\n",
              "      <td>94.465</td>\n",
              "      <td>-41.8</td>\n",
              "      <td>4.959</td>\n",
              "      <td>5228.1</td>\n",
              "      <td>False</td>\n",
              "    </tr>\n",
              "    <tr>\n",
              "      <th>9998</th>\n",
              "      <td>41</td>\n",
              "      <td>technician</td>\n",
              "      <td>married</td>\n",
              "      <td>professional.course</td>\n",
              "      <td>unknown</td>\n",
              "      <td>yes</td>\n",
              "      <td>no</td>\n",
              "      <td>telephone</td>\n",
              "      <td>jun</td>\n",
              "      <td>wed</td>\n",
              "      <td>...</td>\n",
              "      <td>3</td>\n",
              "      <td>999</td>\n",
              "      <td>0</td>\n",
              "      <td>nonexistent</td>\n",
              "      <td>1.4</td>\n",
              "      <td>94.465</td>\n",
              "      <td>-41.8</td>\n",
              "      <td>4.959</td>\n",
              "      <td>5228.1</td>\n",
              "      <td>True</td>\n",
              "    </tr>\n",
              "    <tr>\n",
              "      <th>9999</th>\n",
              "      <td>40</td>\n",
              "      <td>services</td>\n",
              "      <td>divorced</td>\n",
              "      <td>unknown</td>\n",
              "      <td>no</td>\n",
              "      <td>yes</td>\n",
              "      <td>yes</td>\n",
              "      <td>telephone</td>\n",
              "      <td>jun</td>\n",
              "      <td>wed</td>\n",
              "      <td>...</td>\n",
              "      <td>29</td>\n",
              "      <td>999</td>\n",
              "      <td>0</td>\n",
              "      <td>nonexistent</td>\n",
              "      <td>1.4</td>\n",
              "      <td>94.465</td>\n",
              "      <td>-41.8</td>\n",
              "      <td>4.959</td>\n",
              "      <td>5228.1</td>\n",
              "      <td>False</td>\n",
              "    </tr>\n",
              "  </tbody>\n",
              "</table>\n",
              "<p>10000 rows × 21 columns</p>\n",
              "</div>"
            ]
          },
          "metadata": {},
          "execution_count": 35
        }
      ],
      "metadata": {
        "id": "h1p7zsYPOarI",
        "outputId": "2304de72-b37c-4b5e-a2f7-9324f069b828",
        "colab": {
          "base_uri": "https://localhost:8080/",
          "height": 439
        }
      }
    },
    {
      "cell_type": "code",
      "execution_count": 36,
      "source": [
        "print(\"Shape of dataset\\n\",telset.shape)\r\n",
        "\r\n",
        "print(\"\\n\\nDataType info\\n\")\r\n",
        "print(telset.info())"
      ],
      "outputs": [
        {
          "output_type": "stream",
          "name": "stdout",
          "text": [
            "Shape of dataset\n",
            " (10000, 21)\n",
            "\n",
            "\n",
            "DataType info\n",
            "\n",
            "<class 'pandas.core.frame.DataFrame'>\n",
            "RangeIndex: 10000 entries, 0 to 9999\n",
            "Data columns (total 21 columns):\n",
            " #   Column          Non-Null Count  Dtype  \n",
            "---  ------          --------------  -----  \n",
            " 0   age             10000 non-null  int64  \n",
            " 1   job             10000 non-null  object \n",
            " 2   marital         10000 non-null  object \n",
            " 3   education       10000 non-null  object \n",
            " 4   default         10000 non-null  object \n",
            " 5   housing         10000 non-null  object \n",
            " 6   loan            10000 non-null  object \n",
            " 7   contact         10000 non-null  object \n",
            " 8   month           10000 non-null  object \n",
            " 9   day_of_week     10000 non-null  object \n",
            " 10  duration        10000 non-null  int64  \n",
            " 11  campaign        10000 non-null  int64  \n",
            " 12  pdays           10000 non-null  int64  \n",
            " 13  previous        10000 non-null  int64  \n",
            " 14  poutcome        10000 non-null  object \n",
            " 15  emp_var_rate    10000 non-null  float64\n",
            " 16  cons_price_idx  10000 non-null  float64\n",
            " 17  cons_conf_idx   10000 non-null  float64\n",
            " 18  euribor3m       10000 non-null  float64\n",
            " 19  nr_employed     10000 non-null  float64\n",
            " 20  y               10000 non-null  bool   \n",
            "dtypes: bool(1), float64(5), int64(5), object(10)\n",
            "memory usage: 1.5+ MB\n",
            "None\n"
          ]
        }
      ],
      "metadata": {
        "id": "jaKyQkdygezV",
        "outputId": "f1c32f2b-717c-4abd-bd64-017b7b84c010",
        "colab": {
          "base_uri": "https://localhost:8080/"
        }
      }
    },
    {
      "cell_type": "markdown",
      "source": [
        "Displaying summary statistics for each attribute"
      ],
      "metadata": {
        "id": "5dxTk-rrshdd"
      }
    },
    {
      "cell_type": "code",
      "execution_count": 37,
      "source": [
        "print(\"The statistical info of each attribute\\n\")\r\n",
        "datasummary = telset.describe()\r\n",
        "datasummary"
      ],
      "outputs": [
        {
          "output_type": "stream",
          "name": "stdout",
          "text": [
            "The statistical info of each attribute\n",
            "\n"
          ]
        },
        {
          "output_type": "execute_result",
          "data": {
            "text/plain": [
              "                age      duration      campaign    pdays  previous  \\\n",
              "count  10000.000000  10000.000000  10000.000000  10000.0   10000.0   \n",
              "mean      40.276600    261.097600      2.613400    999.0       0.0   \n",
              "std        8.881767    247.559515      2.839885      0.0       0.0   \n",
              "min       20.000000      0.000000      1.000000    999.0       0.0   \n",
              "25%       33.000000    113.000000      1.000000    999.0       0.0   \n",
              "50%       39.000000    190.000000      2.000000    999.0       0.0   \n",
              "75%       47.000000    322.000000      3.000000    999.0       0.0   \n",
              "max       61.000000   3631.000000     56.000000    999.0       0.0   \n",
              "\n",
              "       emp_var_rate  cons_price_idx  cons_conf_idx     euribor3m   nr_employed  \n",
              "count  10000.000000    10000.000000   10000.000000  10000.000000  10000.000000  \n",
              "mean       1.167110       94.099363     -37.607980      4.868291   5199.299270  \n",
              "std        0.125023        0.196286       2.250418      0.030326     15.461208  \n",
              "min        1.100000       93.994000     -41.800000      4.855000   5191.000000  \n",
              "25%        1.100000       93.994000     -36.400000      4.857000   5191.000000  \n",
              "50%        1.100000       93.994000     -36.400000      4.858000   5191.000000  \n",
              "75%        1.100000       93.994000     -36.400000      4.864000   5191.000000  \n",
              "max        1.400000       94.465000     -36.400000      4.967000   5228.100000  "
            ],
            "text/html": [
              "<div>\n",
              "<style scoped>\n",
              "    .dataframe tbody tr th:only-of-type {\n",
              "        vertical-align: middle;\n",
              "    }\n",
              "\n",
              "    .dataframe tbody tr th {\n",
              "        vertical-align: top;\n",
              "    }\n",
              "\n",
              "    .dataframe thead th {\n",
              "        text-align: right;\n",
              "    }\n",
              "</style>\n",
              "<table border=\"1\" class=\"dataframe\">\n",
              "  <thead>\n",
              "    <tr style=\"text-align: right;\">\n",
              "      <th></th>\n",
              "      <th>age</th>\n",
              "      <th>duration</th>\n",
              "      <th>campaign</th>\n",
              "      <th>pdays</th>\n",
              "      <th>previous</th>\n",
              "      <th>emp_var_rate</th>\n",
              "      <th>cons_price_idx</th>\n",
              "      <th>cons_conf_idx</th>\n",
              "      <th>euribor3m</th>\n",
              "      <th>nr_employed</th>\n",
              "    </tr>\n",
              "  </thead>\n",
              "  <tbody>\n",
              "    <tr>\n",
              "      <th>count</th>\n",
              "      <td>10000.000000</td>\n",
              "      <td>10000.000000</td>\n",
              "      <td>10000.000000</td>\n",
              "      <td>10000.0</td>\n",
              "      <td>10000.0</td>\n",
              "      <td>10000.000000</td>\n",
              "      <td>10000.000000</td>\n",
              "      <td>10000.000000</td>\n",
              "      <td>10000.000000</td>\n",
              "      <td>10000.000000</td>\n",
              "    </tr>\n",
              "    <tr>\n",
              "      <th>mean</th>\n",
              "      <td>40.276600</td>\n",
              "      <td>261.097600</td>\n",
              "      <td>2.613400</td>\n",
              "      <td>999.0</td>\n",
              "      <td>0.0</td>\n",
              "      <td>1.167110</td>\n",
              "      <td>94.099363</td>\n",
              "      <td>-37.607980</td>\n",
              "      <td>4.868291</td>\n",
              "      <td>5199.299270</td>\n",
              "    </tr>\n",
              "    <tr>\n",
              "      <th>std</th>\n",
              "      <td>8.881767</td>\n",
              "      <td>247.559515</td>\n",
              "      <td>2.839885</td>\n",
              "      <td>0.0</td>\n",
              "      <td>0.0</td>\n",
              "      <td>0.125023</td>\n",
              "      <td>0.196286</td>\n",
              "      <td>2.250418</td>\n",
              "      <td>0.030326</td>\n",
              "      <td>15.461208</td>\n",
              "    </tr>\n",
              "    <tr>\n",
              "      <th>min</th>\n",
              "      <td>20.000000</td>\n",
              "      <td>0.000000</td>\n",
              "      <td>1.000000</td>\n",
              "      <td>999.0</td>\n",
              "      <td>0.0</td>\n",
              "      <td>1.100000</td>\n",
              "      <td>93.994000</td>\n",
              "      <td>-41.800000</td>\n",
              "      <td>4.855000</td>\n",
              "      <td>5191.000000</td>\n",
              "    </tr>\n",
              "    <tr>\n",
              "      <th>25%</th>\n",
              "      <td>33.000000</td>\n",
              "      <td>113.000000</td>\n",
              "      <td>1.000000</td>\n",
              "      <td>999.0</td>\n",
              "      <td>0.0</td>\n",
              "      <td>1.100000</td>\n",
              "      <td>93.994000</td>\n",
              "      <td>-36.400000</td>\n",
              "      <td>4.857000</td>\n",
              "      <td>5191.000000</td>\n",
              "    </tr>\n",
              "    <tr>\n",
              "      <th>50%</th>\n",
              "      <td>39.000000</td>\n",
              "      <td>190.000000</td>\n",
              "      <td>2.000000</td>\n",
              "      <td>999.0</td>\n",
              "      <td>0.0</td>\n",
              "      <td>1.100000</td>\n",
              "      <td>93.994000</td>\n",
              "      <td>-36.400000</td>\n",
              "      <td>4.858000</td>\n",
              "      <td>5191.000000</td>\n",
              "    </tr>\n",
              "    <tr>\n",
              "      <th>75%</th>\n",
              "      <td>47.000000</td>\n",
              "      <td>322.000000</td>\n",
              "      <td>3.000000</td>\n",
              "      <td>999.0</td>\n",
              "      <td>0.0</td>\n",
              "      <td>1.100000</td>\n",
              "      <td>93.994000</td>\n",
              "      <td>-36.400000</td>\n",
              "      <td>4.864000</td>\n",
              "      <td>5191.000000</td>\n",
              "    </tr>\n",
              "    <tr>\n",
              "      <th>max</th>\n",
              "      <td>61.000000</td>\n",
              "      <td>3631.000000</td>\n",
              "      <td>56.000000</td>\n",
              "      <td>999.0</td>\n",
              "      <td>0.0</td>\n",
              "      <td>1.400000</td>\n",
              "      <td>94.465000</td>\n",
              "      <td>-36.400000</td>\n",
              "      <td>4.967000</td>\n",
              "      <td>5228.100000</td>\n",
              "    </tr>\n",
              "  </tbody>\n",
              "</table>\n",
              "</div>"
            ]
          },
          "metadata": {},
          "execution_count": 37
        }
      ],
      "metadata": {
        "id": "LIYiVqj2RHXQ"
      }
    },
    {
      "cell_type": "code",
      "execution_count": 38,
      "source": [
        "print(\"\\nMean\\n\")\r\n",
        "meanInfo = telset.mean()\r\n",
        "meanInfo"
      ],
      "outputs": [
        {
          "output_type": "stream",
          "name": "stdout",
          "text": [
            "\n",
            "Mean\n",
            "\n"
          ]
        },
        {
          "output_type": "execute_result",
          "data": {
            "text/plain": [
              "age                 40.276600\n",
              "duration           261.097600\n",
              "campaign             2.613400\n",
              "pdays              999.000000\n",
              "previous             0.000000\n",
              "emp_var_rate         1.167110\n",
              "cons_price_idx      94.099363\n",
              "cons_conf_idx      -37.607980\n",
              "euribor3m            4.868291\n",
              "nr_employed       5199.299270\n",
              "y                    0.033400\n",
              "dtype: float64"
            ]
          },
          "metadata": {},
          "execution_count": 38
        }
      ],
      "metadata": {
        "id": "X0UJi1Y_1i4c"
      }
    },
    {
      "cell_type": "code",
      "execution_count": 39,
      "source": [
        "print(\"\\nMedian\\n\")\r\n",
        "medianInfo = telset.median()\r\n",
        "medianInfo"
      ],
      "outputs": [
        {
          "output_type": "stream",
          "name": "stdout",
          "text": [
            "\n",
            "Median\n",
            "\n"
          ]
        },
        {
          "output_type": "execute_result",
          "data": {
            "text/plain": [
              "age                 39.000\n",
              "duration           190.000\n",
              "campaign             2.000\n",
              "pdays              999.000\n",
              "previous             0.000\n",
              "emp_var_rate         1.100\n",
              "cons_price_idx      93.994\n",
              "cons_conf_idx      -36.400\n",
              "euribor3m            4.858\n",
              "nr_employed       5191.000\n",
              "y                    0.000\n",
              "dtype: float64"
            ]
          },
          "metadata": {},
          "execution_count": 39
        }
      ],
      "metadata": {
        "id": "LHXNfa6ga9G5"
      }
    },
    {
      "cell_type": "code",
      "execution_count": 40,
      "source": [
        "print(\"\\nMode\\n\")\r\n",
        "modeInfo = telset.mode()\r\n",
        "modeInfo"
      ],
      "outputs": [
        {
          "output_type": "stream",
          "name": "stdout",
          "text": [
            "\n",
            "Mode\n",
            "\n"
          ]
        },
        {
          "output_type": "execute_result",
          "data": {
            "text/plain": [
              "   age          job  marital    education default housing loan    contact  \\\n",
              "0   35  blue-collar  married  high.school      no      no   no  telephone   \n",
              "\n",
              "  month day_of_week  ...  campaign  pdays  previous     poutcome emp_var_rate  \\\n",
              "0   may         wed  ...         1    999         0  nonexistent          1.1   \n",
              "\n",
              "   cons_price_idx  cons_conf_idx  euribor3m  nr_employed      y  \n",
              "0          93.994          -36.4      4.857       5191.0  False  \n",
              "\n",
              "[1 rows x 21 columns]"
            ],
            "text/html": [
              "<div>\n",
              "<style scoped>\n",
              "    .dataframe tbody tr th:only-of-type {\n",
              "        vertical-align: middle;\n",
              "    }\n",
              "\n",
              "    .dataframe tbody tr th {\n",
              "        vertical-align: top;\n",
              "    }\n",
              "\n",
              "    .dataframe thead th {\n",
              "        text-align: right;\n",
              "    }\n",
              "</style>\n",
              "<table border=\"1\" class=\"dataframe\">\n",
              "  <thead>\n",
              "    <tr style=\"text-align: right;\">\n",
              "      <th></th>\n",
              "      <th>age</th>\n",
              "      <th>job</th>\n",
              "      <th>marital</th>\n",
              "      <th>education</th>\n",
              "      <th>default</th>\n",
              "      <th>housing</th>\n",
              "      <th>loan</th>\n",
              "      <th>contact</th>\n",
              "      <th>month</th>\n",
              "      <th>day_of_week</th>\n",
              "      <th>...</th>\n",
              "      <th>campaign</th>\n",
              "      <th>pdays</th>\n",
              "      <th>previous</th>\n",
              "      <th>poutcome</th>\n",
              "      <th>emp_var_rate</th>\n",
              "      <th>cons_price_idx</th>\n",
              "      <th>cons_conf_idx</th>\n",
              "      <th>euribor3m</th>\n",
              "      <th>nr_employed</th>\n",
              "      <th>y</th>\n",
              "    </tr>\n",
              "  </thead>\n",
              "  <tbody>\n",
              "    <tr>\n",
              "      <th>0</th>\n",
              "      <td>35</td>\n",
              "      <td>blue-collar</td>\n",
              "      <td>married</td>\n",
              "      <td>high.school</td>\n",
              "      <td>no</td>\n",
              "      <td>no</td>\n",
              "      <td>no</td>\n",
              "      <td>telephone</td>\n",
              "      <td>may</td>\n",
              "      <td>wed</td>\n",
              "      <td>...</td>\n",
              "      <td>1</td>\n",
              "      <td>999</td>\n",
              "      <td>0</td>\n",
              "      <td>nonexistent</td>\n",
              "      <td>1.1</td>\n",
              "      <td>93.994</td>\n",
              "      <td>-36.4</td>\n",
              "      <td>4.857</td>\n",
              "      <td>5191.0</td>\n",
              "      <td>False</td>\n",
              "    </tr>\n",
              "  </tbody>\n",
              "</table>\n",
              "<p>1 rows × 21 columns</p>\n",
              "</div>"
            ]
          },
          "metadata": {},
          "execution_count": 40
        }
      ],
      "metadata": {
        "id": "JGUHlDsu1saJ"
      }
    },
    {
      "cell_type": "code",
      "execution_count": 41,
      "source": [
        "print(\"\\nStd Dev\\n\")\r\n",
        "stddevInfo = telset.std()\r\n",
        "stddevInfo"
      ],
      "outputs": [
        {
          "output_type": "stream",
          "name": "stdout",
          "text": [
            "\n",
            "Std Dev\n",
            "\n"
          ]
        },
        {
          "output_type": "execute_result",
          "data": {
            "text/plain": [
              "age                 8.881767\n",
              "duration          247.559515\n",
              "campaign            2.839885\n",
              "pdays               0.000000\n",
              "previous            0.000000\n",
              "emp_var_rate        0.125023\n",
              "cons_price_idx      0.196286\n",
              "cons_conf_idx       2.250418\n",
              "euribor3m           0.030326\n",
              "nr_employed        15.461208\n",
              "y                   0.179688\n",
              "dtype: float64"
            ]
          },
          "metadata": {},
          "execution_count": 41
        }
      ],
      "metadata": {
        "id": "FcSiznpw2BE4"
      }
    },
    {
      "cell_type": "code",
      "execution_count": 42,
      "source": [
        "print(\"\\nSkewness\\n\")\r\n",
        "skewnessInfo = telset.skew()\r\n",
        "skewnessInfo"
      ],
      "outputs": [
        {
          "output_type": "stream",
          "name": "stdout",
          "text": [
            "\n",
            "Skewness\n",
            "\n"
          ]
        },
        {
          "output_type": "execute_result",
          "data": {
            "text/plain": [
              "age               0.319574\n",
              "duration          3.251156\n",
              "campaign          5.031879\n",
              "pdays             0.000000\n",
              "previous          0.000000\n",
              "emp_var_rate      1.326259\n",
              "cons_price_idx    1.326259\n",
              "cons_conf_idx    -1.326259\n",
              "euribor3m         2.780819\n",
              "nr_employed       1.326259\n",
              "y                 5.194494\n",
              "dtype: float64"
            ]
          },
          "metadata": {},
          "execution_count": 42
        }
      ],
      "metadata": {
        "id": "HN4v0Q9Q2EUZ"
      }
    },
    {
      "cell_type": "markdown",
      "source": [
        "Data Transformation\n"
      ],
      "metadata": {
        "id": "fvBEteVXwbLc"
      }
    },
    {
      "cell_type": "code",
      "execution_count": 43,
      "source": [
        "from pandas import get_dummies\r\n",
        "\r\n",
        "print(\"Performing label encoding (since the columns are to be made nominal)\\n\")\r\n",
        "#Creating matrix X and y\r\n",
        "X = telset.drop(columns=['y'])\r\n",
        "y = telset[['y']]\r\n",
        "#Encode type object to numerical\r\n",
        "X = pd.get_dummies(X)\r\n",
        "\r\n",
        "print(\"DataType info\\n\")\r\n",
        "print(X.info())\r\n",
        "print(y.info())"
      ],
      "outputs": [
        {
          "output_type": "stream",
          "name": "stdout",
          "text": [
            "Performing label encoding (since the columns are to be made nominal)\n",
            "\n",
            "DataType info\n",
            "\n",
            "<class 'pandas.core.frame.DataFrame'>\n",
            "RangeIndex: 10000 entries, 0 to 9999\n",
            "Data columns (total 51 columns):\n",
            " #   Column                         Non-Null Count  Dtype  \n",
            "---  ------                         --------------  -----  \n",
            " 0   age                            10000 non-null  int64  \n",
            " 1   duration                       10000 non-null  int64  \n",
            " 2   campaign                       10000 non-null  int64  \n",
            " 3   pdays                          10000 non-null  int64  \n",
            " 4   previous                       10000 non-null  int64  \n",
            " 5   emp_var_rate                   10000 non-null  float64\n",
            " 6   cons_price_idx                 10000 non-null  float64\n",
            " 7   cons_conf_idx                  10000 non-null  float64\n",
            " 8   euribor3m                      10000 non-null  float64\n",
            " 9   nr_employed                    10000 non-null  float64\n",
            " 10  job_admin.                     10000 non-null  uint8  \n",
            " 11  job_blue-collar                10000 non-null  uint8  \n",
            " 12  job_entrepreneur               10000 non-null  uint8  \n",
            " 13  job_housemaid                  10000 non-null  uint8  \n",
            " 14  job_management                 10000 non-null  uint8  \n",
            " 15  job_retired                    10000 non-null  uint8  \n",
            " 16  job_self-employed              10000 non-null  uint8  \n",
            " 17  job_services                   10000 non-null  uint8  \n",
            " 18  job_student                    10000 non-null  uint8  \n",
            " 19  job_technician                 10000 non-null  uint8  \n",
            " 20  job_unemployed                 10000 non-null  uint8  \n",
            " 21  job_unknown                    10000 non-null  uint8  \n",
            " 22  marital_divorced               10000 non-null  uint8  \n",
            " 23  marital_married                10000 non-null  uint8  \n",
            " 24  marital_single                 10000 non-null  uint8  \n",
            " 25  marital_unknown                10000 non-null  uint8  \n",
            " 26  education_basic.4y             10000 non-null  uint8  \n",
            " 27  education_basic.6y             10000 non-null  uint8  \n",
            " 28  education_basic.9y             10000 non-null  uint8  \n",
            " 29  education_high.school          10000 non-null  uint8  \n",
            " 30  education_illiterate           10000 non-null  uint8  \n",
            " 31  education_professional.course  10000 non-null  uint8  \n",
            " 32  education_university.degree    10000 non-null  uint8  \n",
            " 33  education_unknown              10000 non-null  uint8  \n",
            " 34  default_no                     10000 non-null  uint8  \n",
            " 35  default_unknown                10000 non-null  uint8  \n",
            " 36  housing_no                     10000 non-null  uint8  \n",
            " 37  housing_unknown                10000 non-null  uint8  \n",
            " 38  housing_yes                    10000 non-null  uint8  \n",
            " 39  loan_no                        10000 non-null  uint8  \n",
            " 40  loan_unknown                   10000 non-null  uint8  \n",
            " 41  loan_yes                       10000 non-null  uint8  \n",
            " 42  contact_telephone              10000 non-null  uint8  \n",
            " 43  month_jun                      10000 non-null  uint8  \n",
            " 44  month_may                      10000 non-null  uint8  \n",
            " 45  day_of_week_fri                10000 non-null  uint8  \n",
            " 46  day_of_week_mon                10000 non-null  uint8  \n",
            " 47  day_of_week_thu                10000 non-null  uint8  \n",
            " 48  day_of_week_tue                10000 non-null  uint8  \n",
            " 49  day_of_week_wed                10000 non-null  uint8  \n",
            " 50  poutcome_nonexistent           10000 non-null  uint8  \n",
            "dtypes: float64(5), int64(5), uint8(41)\n",
            "memory usage: 1.2 MB\n",
            "None\n",
            "<class 'pandas.core.frame.DataFrame'>\n",
            "RangeIndex: 10000 entries, 0 to 9999\n",
            "Data columns (total 1 columns):\n",
            " #   Column  Non-Null Count  Dtype\n",
            "---  ------  --------------  -----\n",
            " 0   y       10000 non-null  bool \n",
            "dtypes: bool(1)\n",
            "memory usage: 9.9 KB\n",
            "None\n"
          ]
        }
      ],
      "metadata": {
        "id": "cxXU42AJwezv",
        "outputId": "779b85ba-7b12-4828-bab0-739f821cb686",
        "colab": {
          "base_uri": "https://localhost:8080/"
        }
      }
    },
    {
      "cell_type": "markdown",
      "source": [
        "Feature matrix creation and min-max feature scaling (normalization)"
      ],
      "metadata": {
        "id": "18k4AWmJ-z1C"
      }
    },
    {
      "cell_type": "code",
      "execution_count": 44,
      "source": [
        "print(\"Feature Matrix\\n\")\r\n",
        "X = X.to_numpy()\r\n",
        "print(X)\r\n",
        "\r\n",
        "from sklearn import preprocessing \r\n",
        "print(\"\\n\\nNormalised Feature Matrix\\n\")\r\n",
        "scaler = preprocessing.MinMaxScaler() \r\n",
        "X_scaled = scaler.fit_transform(X)\r\n",
        "print(X_scaled)\r\n",
        "\r\n",
        "print(\"\\n\\nExpected Output Y\\n\")\r\n",
        "y = y.to_numpy().reshape(len(y),)\r\n",
        "print(y)\r\n"
      ],
      "outputs": [
        {
          "output_type": "stream",
          "name": "stdout",
          "text": [
            "Feature Matrix\n",
            "\n",
            "[[ 56. 261.   1. ...   0.   0.   1.]\n",
            " [ 40. 151.   1. ...   0.   0.   1.]\n",
            " [ 56. 307.   1. ...   0.   0.   1.]\n",
            " ...\n",
            " [ 33. 179.   4. ...   0.   1.   1.]\n",
            " [ 41. 649.   3. ...   0.   1.   1.]\n",
            " [ 40.  26.  29. ...   0.   1.   1.]]\n",
            "\n",
            "\n",
            "Normalised Feature Matrix\n",
            "\n",
            "[[0.87804878 0.07188102 0.         ... 0.         0.         0.        ]\n",
            " [0.48780488 0.04158634 0.         ... 0.         0.         0.        ]\n",
            " [0.87804878 0.08454971 0.         ... 0.         0.         0.        ]\n",
            " ...\n",
            " [0.31707317 0.04929771 0.05454545 ... 0.         1.         0.        ]\n",
            " [0.51219512 0.17873864 0.03636364 ... 0.         1.         0.        ]\n",
            " [0.48780488 0.00716056 0.50909091 ... 0.         1.         0.        ]]\n",
            "\n",
            "\n",
            "Expected Output Y\n",
            "\n",
            "[False False False ... False  True False]\n"
          ]
        }
      ],
      "metadata": {
        "id": "-_MeSk3k55Yt",
        "outputId": "5610b641-f71f-40b4-d288-1a0cf502f7b4",
        "colab": {
          "base_uri": "https://localhost:8080/"
        }
      }
    },
    {
      "cell_type": "markdown",
      "source": [
        "Splitting dataset and training model"
      ],
      "metadata": {
        "id": "0nFe61hyFhbb"
      }
    },
    {
      "cell_type": "code",
      "execution_count": 45,
      "source": [
        "from sklearn import linear_model\r\n",
        "from sklearn import metrics\r\n",
        "from sklearn import ensemble\r\n",
        "from sklearn import naive_bayes\r\n",
        "from sklearn import tree\r\n",
        "from sklearn import model_selection\r\n",
        "from sklearn.model_selection import train_test_split\r\n",
        "\r\n",
        "def tts(X_train, X_test, y_train, clf_class, **kwargs):\r\n",
        "  clf = clf_class(**kwargs)\r\n",
        "  clf.fit(X_train,y_train)\r\n",
        "  y_pred = clf.predict(X_test)\r\n",
        "  return y_pred\r\n",
        "\r\n",
        "X_train, X_test, y_train, y_test = train_test_split(X_scaled, y, test_size=0.33, random_state=42)\r\n",
        "print(\"Logistic Regression: \",metrics.accuracy_score(y_test, tts(X_train, X_test, y_train, linear_model.LogisticRegression)))\r\n",
        "print(\"Random Forest Classifier: \",metrics.accuracy_score(y_test, tts(X_train, X_test, y_train, ensemble.RandomForestClassifier)))\r\n",
        "print(\"Decision Trees: \",metrics.accuracy_score(y_test, tts(X_train, X_test, y_train, tree.DecisionTreeClassifier)))\r\n",
        "print(\"Naive Bayes Classifier: \",metrics.accuracy_score(y_test, tts(X_train, X_test, y_train, naive_bayes.GaussianNB)))"
      ],
      "outputs": [
        {
          "output_type": "stream",
          "name": "stdout",
          "text": [
            "Logistic Regression:  0.9666666666666667\n",
            "Random Forest Classifier:  0.9645454545454546\n",
            "Decision Trees:  0.9515151515151515\n",
            "Naive Bayes Classifier:  0.06303030303030303\n"
          ]
        }
      ],
      "metadata": {
        "id": "LU1nj0OzFgWN",
        "outputId": "d17521db-245f-4958-9041-1cb4971da87a",
        "colab": {
          "base_uri": "https://localhost:8080/"
        }
      }
    },
    {
      "cell_type": "markdown",
      "source": [
        "Confusion Matrix for the models"
      ],
      "metadata": {
        "id": "5BUKrvnVyX3p"
      }
    },
    {
      "cell_type": "code",
      "execution_count": 46,
      "source": [
        "import seaborn as sb\r\n",
        "import matplotlib.pyplot as plt\r\n",
        "\r\n",
        "lr_conf = metrics.confusion_matrix(y_test, tts(X_train, X_test, y_train, linear_model.LogisticRegression))\r\n",
        "sb.heatmap(lr_conf, annot=True,  fmt='')\r\n",
        "title = \"Logistic Regression\"\r\n",
        "plt.title(title)"
      ],
      "outputs": [
        {
          "output_type": "execute_result",
          "data": {
            "text/plain": [
              "Text(0.5, 1.0, 'Logistic Regression')"
            ]
          },
          "metadata": {},
          "execution_count": 46
        },
        {
          "output_type": "display_data",
          "data": {
            "text/plain": [
              "<Figure size 432x288 with 2 Axes>"
            ],
            "image/png": "[encoded data removed]"
          },
          "metadata": {
            "needs_background": "light"
          }
        }
      ],
      "metadata": {
        "id": "5B9eNeMHyWMr"
      }
    },
    {
      "cell_type": "code",
      "execution_count": 47,
      "source": [
        "rfc_conf = metrics.confusion_matrix(y_test, tts(X_train, X_test, y_train, ensemble.RandomForestClassifier))\r\n",
        "sb.heatmap(rfc_conf, annot=True,  fmt='')\r\n",
        "title = \"Random Forest Classifier\"\r\n",
        "plt.title(title)"
      ],
      "outputs": [
        {
          "output_type": "execute_result",
          "data": {
            "text/plain": [
              "Text(0.5, 1.0, 'Random Forest Classifier')"
            ]
          },
          "metadata": {},
          "execution_count": 47
        },
        {
          "output_type": "display_data",
          "data": {
            "text/plain": [
              "<Figure size 432x288 with 2 Axes>"
            ],
            "image/png": "[encoded data removed]"
          },
          "metadata": {
            "needs_background": "light"
          }
        }
      ],
      "metadata": {
        "id": "cWgyov89zN5p"
      }
    },
    {
      "cell_type": "code",
      "execution_count": 48,
      "source": [
        "rfc_conf = metrics.confusion_matrix(y_test, tts(X_train, X_test, y_train, tree.DecisionTreeClassifier))\r\n",
        "sb.heatmap(rfc_conf, annot=True,  fmt='')\r\n",
        "title = \"Decision Trees\"\r\n",
        "plt.title(title)"
      ],
      "outputs": [
        {
          "output_type": "execute_result",
          "data": {
            "text/plain": [
              "Text(0.5, 1.0, 'Decision Trees')"
            ]
          },
          "metadata": {},
          "execution_count": 48
        },
        {
          "output_type": "display_data",
          "data": {
            "text/plain": [
              "<Figure size 432x288 with 2 Axes>"
            ],
            "image/png": "[encoded data removed]"
          },
          "metadata": {
            "needs_background": "light"
          }
        }
      ],
      "metadata": {
        "id": "LNyKWDIW2kL4"
      }
    },
    {
      "cell_type": "code",
      "execution_count": 49,
      "source": [
        "rfc_conf = metrics.confusion_matrix(y_test, tts(X_train, X_test, y_train, naive_bayes.GaussianNB))\r\n",
        "sb.heatmap(rfc_conf, annot=True,  fmt='')\r\n",
        "title = \"Naive Bayes Classifier\"\r\n",
        "plt.title(title);"
      ],
      "outputs": [
        {
          "output_type": "display_data",
          "data": {
            "text/plain": [
              "<Figure size 432x288 with 2 Axes>"
            ],
            "image/png": "[encoded data removed]"
          },
          "metadata": {
            "needs_background": "light"
          }
        }
      ],
      "metadata": {
        "id": "zgCwC3rC2kXl"
      }
    },
    {
      "cell_type": "markdown",
      "source": [
        "From the above accuracy scores and confusion matrix, the Logistic Regression model performs better"
      ],
      "metadata": {
        "id": "q0f_QV1Iz-mc"
      }
    },
    {
      "cell_type": "markdown",
      "source": [
        "Feature Importance"
      ],
      "metadata": {
        "id": "ba7fOLkb0In7"
      }
    },
    {
      "cell_type": "code",
      "execution_count": 50,
      "source": [
        "''' \r\n",
        "    rfc.feature_importances_ returns the feature importance\r\n",
        "    pd.Series is a 1D labelled array\r\n",
        "    ft_imp is a series having feature importance returned by model and labelled/indexed by the column names\r\n",
        "'''\r\n",
        "X = telset.drop(columns=['y'])\r\n",
        "X = pd.get_dummies(X)\r\n",
        "\r\n",
        "rfc = ensemble.RandomForestClassifier()\r\n",
        "rfc.fit(X_scaled, y)\r\n",
        "ft_imp = pd.Series(rfc.feature_importances_, index = X.columns)\r\n",
        "ft_imp = ft_imp.nsmallest(19)\r\n",
        "ft_imp.plot(kind='barh', figsize=(6,9), title=\"Random Forest Classifier\")"
      ],
      "outputs": [
        {
          "output_type": "execute_result",
          "data": {
            "text/plain": [
              "<AxesSubplot:title={'center':'Random Forest Classifier'}>"
            ]
          },
          "metadata": {},
          "execution_count": 50
        },
        {
          "output_type": "display_data",
          "data": {
            "text/plain": [
              "<Figure size 432x648 with 1 Axes>"
            ],
            "image/png": "[encoded data removed]"
          },
          "metadata": {
            "needs_background": "light"
          }
        }
      ],
      "metadata": {
        "id": "nny8tDAa0H3b"
      }
    },
    {
      "cell_type": "code",
      "execution_count": 51,
      "source": [
        "rfc = tree.DecisionTreeClassifier()\r\n",
        "rfc.fit(X_scaled, y)\r\n",
        "ft_imp = pd.Series(rfc.feature_importances_, index = X.columns)\r\n",
        "ft_imp = ft_imp.nsmallest(19)\r\n",
        "ft_imp.plot(kind='barh', figsize=(6,9), title=\"Decision Tree\") "
      ],
      "outputs": [
        {
          "output_type": "execute_result",
          "data": {
            "text/plain": [
              "<AxesSubplot:title={'center':'Decision Tree'}>"
            ]
          },
          "metadata": {},
          "execution_count": 51
        },
        {
          "output_type": "display_data",
          "data": {
            "text/plain": [
              "<Figure size 432x648 with 1 Axes>"
            ],
            "image/png": "[encoded data removed]"
          },
          "metadata": {
            "needs_background": "light"
          }
        }
      ],
      "metadata": {
        "id": "FGqLeS8J49RY"
      }
    }
  ]
}