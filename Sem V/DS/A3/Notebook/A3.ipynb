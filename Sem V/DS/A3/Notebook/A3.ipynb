{
  "nbformat": 4,
  "nbformat_minor": 2,
  "metadata": {
    "colab": {
      "name": "Assignment3.ipynb",
      "provenance": [],
      "collapsed_sections": [],
      "toc_visible": true
    },
    "kernelspec": {
      "name": "python3",
      "display_name": "Python 3.8.5 64-bit"
    },
    "language_info": {
      "name": "python",
      "version": "3.8.5",
      "mimetype": "text/x-python",
      "codemirror_mode": {
        "name": "ipython",
        "version": 3
      },
      "pygments_lexer": "ipython3",
      "nbconvert_exporter": "python",
      "file_extension": ".py"
    },
    "interpreter": {
      "hash": "7d5c25a0dcd433e9174dbd40cc8162c4c651cca147fa234e40a811528338fdfd"
    }
  },
  "cells": [
    {
      "cell_type": "markdown",
      "source": [
        "1. Build a Data model in Python for the dataset chosen in Assignment 1 or 2 and apply  Linear Regression/Logistic Regression.\n",
        "2. Infer the result using  accuracy score"
      ],
      "metadata": {
        "id": "rEbqY0CS5bvZ"
      }
    },
    {
      "cell_type": "markdown",
      "source": [
        "Displaying general information"
      ],
      "metadata": {
        "id": "kBOg3CBxtFaw"
      }
    },
    {
      "cell_type": "code",
      "execution_count": 32,
      "source": [
        "import pandas as pd\r\n",
        "import numpy as np\r\n",
        "\r\n",
        "telset = pd.read_csv('DS\\\\A3\\\\Dataset\\\\telecom_churn.csv')\r\n",
        "telset"
      ],
      "outputs": [
        {
          "output_type": "execute_result",
          "data": {
            "text/plain": [
              "     State  Account length  Area code International plan Voice mail plan  \\\n",
              "0       KS             128        415                 No             Yes   \n",
              "1       OH             107        415                 No             Yes   \n",
              "2       NJ             137        415                 No              No   \n",
              "3       OH              84        408                Yes              No   \n",
              "4       OK              75        415                Yes              No   \n",
              "...    ...             ...        ...                ...             ...   \n",
              "3328    AZ             192        415                 No             Yes   \n",
              "3329    WV              68        415                 No              No   \n",
              "3330    RI              28        510                 No              No   \n",
              "3331    CT             184        510                Yes              No   \n",
              "3332    TN              74        415                 No             Yes   \n",
              "\n",
              "      Number vmail messages  Total day minutes  Total day calls  \\\n",
              "0                        25              265.1              110   \n",
              "1                        26              161.6              123   \n",
              "2                         0              243.4              114   \n",
              "3                         0              299.4               71   \n",
              "4                         0              166.7              113   \n",
              "...                     ...                ...              ...   \n",
              "3328                     36              156.2               77   \n",
              "3329                      0              231.1               57   \n",
              "3330                      0              180.8              109   \n",
              "3331                      0              213.8              105   \n",
              "3332                     25              234.4              113   \n",
              "\n",
              "      Total day charge  Total eve minutes  Total eve calls  Total eve charge  \\\n",
              "0                45.07              197.4               99             16.78   \n",
              "1                27.47              195.5              103             16.62   \n",
              "2                41.38              121.2              110             10.30   \n",
              "3                50.90               61.9               88              5.26   \n",
              "4                28.34              148.3              122             12.61   \n",
              "...                ...                ...              ...               ...   \n",
              "3328             26.55              215.5              126             18.32   \n",
              "3329             39.29              153.4               55             13.04   \n",
              "3330             30.74              288.8               58             24.55   \n",
              "3331             36.35              159.6               84             13.57   \n",
              "3332             39.85              265.9               82             22.60   \n",
              "\n",
              "      Total night minutes  Total night calls  Total night charge  \\\n",
              "0                   244.7                 91               11.01   \n",
              "1                   254.4                103               11.45   \n",
              "2                   162.6                104                7.32   \n",
              "3                   196.9                 89                8.86   \n",
              "4                   186.9                121                8.41   \n",
              "...                   ...                ...                 ...   \n",
              "3328                279.1                 83               12.56   \n",
              "3329                191.3                123                8.61   \n",
              "3330                191.9                 91                8.64   \n",
              "3331                139.2                137                6.26   \n",
              "3332                241.4                 77               10.86   \n",
              "\n",
              "      Total intl minutes  Total intl calls  Total intl charge  \\\n",
              "0                   10.0                 3               2.70   \n",
              "1                   13.7                 3               3.70   \n",
              "2                   12.2                 5               3.29   \n",
              "3                    6.6                 7               1.78   \n",
              "4                   10.1                 3               2.73   \n",
              "...                  ...               ...                ...   \n",
              "3328                 9.9                 6               2.67   \n",
              "3329                 9.6                 4               2.59   \n",
              "3330                14.1                 6               3.81   \n",
              "3331                 5.0                10               1.35   \n",
              "3332                13.7                 4               3.70   \n",
              "\n",
              "      Customer service calls  Churn  \n",
              "0                          1  False  \n",
              "1                          1  False  \n",
              "2                          0  False  \n",
              "3                          2  False  \n",
              "4                          3  False  \n",
              "...                      ...    ...  \n",
              "3328                       2  False  \n",
              "3329                       3  False  \n",
              "3330                       2  False  \n",
              "3331                       2  False  \n",
              "3332                       0  False  \n",
              "\n",
              "[3333 rows x 20 columns]"
            ],
            "text/html": [
              "<div>\n",
              "<style scoped>\n",
              "    .dataframe tbody tr th:only-of-type {\n",
              "        vertical-align: middle;\n",
              "    }\n",
              "\n",
              "    .dataframe tbody tr th {\n",
              "        vertical-align: top;\n",
              "    }\n",
              "\n",
              "    .dataframe thead th {\n",
              "        text-align: right;\n",
              "    }\n",
              "</style>\n",
              "<table border=\"1\" class=\"dataframe\">\n",
              "  <thead>\n",
              "    <tr style=\"text-align: right;\">\n",
              "      <th></th>\n",
              "      <th>State</th>\n",
              "      <th>Account length</th>\n",
              "      <th>Area code</th>\n",
              "      <th>International plan</th>\n",
              "      <th>Voice mail plan</th>\n",
              "      <th>Number vmail messages</th>\n",
              "      <th>Total day minutes</th>\n",
              "      <th>Total day calls</th>\n",
              "      <th>Total day charge</th>\n",
              "      <th>Total eve minutes</th>\n",
              "      <th>Total eve calls</th>\n",
              "      <th>Total eve charge</th>\n",
              "      <th>Total night minutes</th>\n",
              "      <th>Total night calls</th>\n",
              "      <th>Total night charge</th>\n",
              "      <th>Total intl minutes</th>\n",
              "      <th>Total intl calls</th>\n",
              "      <th>Total intl charge</th>\n",
              "      <th>Customer service calls</th>\n",
              "      <th>Churn</th>\n",
              "    </tr>\n",
              "  </thead>\n",
              "  <tbody>\n",
              "    <tr>\n",
              "      <th>0</th>\n",
              "      <td>KS</td>\n",
              "      <td>128</td>\n",
              "      <td>415</td>\n",
              "      <td>No</td>\n",
              "      <td>Yes</td>\n",
              "      <td>25</td>\n",
              "      <td>265.1</td>\n",
              "      <td>110</td>\n",
              "      <td>45.07</td>\n",
              "      <td>197.4</td>\n",
              "      <td>99</td>\n",
              "      <td>16.78</td>\n",
              "      <td>244.7</td>\n",
              "      <td>91</td>\n",
              "      <td>11.01</td>\n",
              "      <td>10.0</td>\n",
              "      <td>3</td>\n",
              "      <td>2.70</td>\n",
              "      <td>1</td>\n",
              "      <td>False</td>\n",
              "    </tr>\n",
              "    <tr>\n",
              "      <th>1</th>\n",
              "      <td>OH</td>\n",
              "      <td>107</td>\n",
              "      <td>415</td>\n",
              "      <td>No</td>\n",
              "      <td>Yes</td>\n",
              "      <td>26</td>\n",
              "      <td>161.6</td>\n",
              "      <td>123</td>\n",
              "      <td>27.47</td>\n",
              "      <td>195.5</td>\n",
              "      <td>103</td>\n",
              "      <td>16.62</td>\n",
              "      <td>254.4</td>\n",
              "      <td>103</td>\n",
              "      <td>11.45</td>\n",
              "      <td>13.7</td>\n",
              "      <td>3</td>\n",
              "      <td>3.70</td>\n",
              "      <td>1</td>\n",
              "      <td>False</td>\n",
              "    </tr>\n",
              "    <tr>\n",
              "      <th>2</th>\n",
              "      <td>NJ</td>\n",
              "      <td>137</td>\n",
              "      <td>415</td>\n",
              "      <td>No</td>\n",
              "      <td>No</td>\n",
              "      <td>0</td>\n",
              "      <td>243.4</td>\n",
              "      <td>114</td>\n",
              "      <td>41.38</td>\n",
              "      <td>121.2</td>\n",
              "      <td>110</td>\n",
              "      <td>10.30</td>\n",
              "      <td>162.6</td>\n",
              "      <td>104</td>\n",
              "      <td>7.32</td>\n",
              "      <td>12.2</td>\n",
              "      <td>5</td>\n",
              "      <td>3.29</td>\n",
              "      <td>0</td>\n",
              "      <td>False</td>\n",
              "    </tr>\n",
              "    <tr>\n",
              "      <th>3</th>\n",
              "      <td>OH</td>\n",
              "      <td>84</td>\n",
              "      <td>408</td>\n",
              "      <td>Yes</td>\n",
              "      <td>No</td>\n",
              "      <td>0</td>\n",
              "      <td>299.4</td>\n",
              "      <td>71</td>\n",
              "      <td>50.90</td>\n",
              "      <td>61.9</td>\n",
              "      <td>88</td>\n",
              "      <td>5.26</td>\n",
              "      <td>196.9</td>\n",
              "      <td>89</td>\n",
              "      <td>8.86</td>\n",
              "      <td>6.6</td>\n",
              "      <td>7</td>\n",
              "      <td>1.78</td>\n",
              "      <td>2</td>\n",
              "      <td>False</td>\n",
              "    </tr>\n",
              "    <tr>\n",
              "      <th>4</th>\n",
              "      <td>OK</td>\n",
              "      <td>75</td>\n",
              "      <td>415</td>\n",
              "      <td>Yes</td>\n",
              "      <td>No</td>\n",
              "      <td>0</td>\n",
              "      <td>166.7</td>\n",
              "      <td>113</td>\n",
              "      <td>28.34</td>\n",
              "      <td>148.3</td>\n",
              "      <td>122</td>\n",
              "      <td>12.61</td>\n",
              "      <td>186.9</td>\n",
              "      <td>121</td>\n",
              "      <td>8.41</td>\n",
              "      <td>10.1</td>\n",
              "      <td>3</td>\n",
              "      <td>2.73</td>\n",
              "      <td>3</td>\n",
              "      <td>False</td>\n",
              "    </tr>\n",
              "    <tr>\n",
              "      <th>...</th>\n",
              "      <td>...</td>\n",
              "      <td>...</td>\n",
              "      <td>...</td>\n",
              "      <td>...</td>\n",
              "      <td>...</td>\n",
              "      <td>...</td>\n",
              "      <td>...</td>\n",
              "      <td>...</td>\n",
              "      <td>...</td>\n",
              "      <td>...</td>\n",
              "      <td>...</td>\n",
              "      <td>...</td>\n",
              "      <td>...</td>\n",
              "      <td>...</td>\n",
              "      <td>...</td>\n",
              "      <td>...</td>\n",
              "      <td>...</td>\n",
              "      <td>...</td>\n",
              "      <td>...</td>\n",
              "      <td>...</td>\n",
              "    </tr>\n",
              "    <tr>\n",
              "      <th>3328</th>\n",
              "      <td>AZ</td>\n",
              "      <td>192</td>\n",
              "      <td>415</td>\n",
              "      <td>No</td>\n",
              "      <td>Yes</td>\n",
              "      <td>36</td>\n",
              "      <td>156.2</td>\n",
              "      <td>77</td>\n",
              "      <td>26.55</td>\n",
              "      <td>215.5</td>\n",
              "      <td>126</td>\n",
              "      <td>18.32</td>\n",
              "      <td>279.1</td>\n",
              "      <td>83</td>\n",
              "      <td>12.56</td>\n",
              "      <td>9.9</td>\n",
              "      <td>6</td>\n",
              "      <td>2.67</td>\n",
              "      <td>2</td>\n",
              "      <td>False</td>\n",
              "    </tr>\n",
              "    <tr>\n",
              "      <th>3329</th>\n",
              "      <td>WV</td>\n",
              "      <td>68</td>\n",
              "      <td>415</td>\n",
              "      <td>No</td>\n",
              "      <td>No</td>\n",
              "      <td>0</td>\n",
              "      <td>231.1</td>\n",
              "      <td>57</td>\n",
              "      <td>39.29</td>\n",
              "      <td>153.4</td>\n",
              "      <td>55</td>\n",
              "      <td>13.04</td>\n",
              "      <td>191.3</td>\n",
              "      <td>123</td>\n",
              "      <td>8.61</td>\n",
              "      <td>9.6</td>\n",
              "      <td>4</td>\n",
              "      <td>2.59</td>\n",
              "      <td>3</td>\n",
              "      <td>False</td>\n",
              "    </tr>\n",
              "    <tr>\n",
              "      <th>3330</th>\n",
              "      <td>RI</td>\n",
              "      <td>28</td>\n",
              "      <td>510</td>\n",
              "      <td>No</td>\n",
              "      <td>No</td>\n",
              "      <td>0</td>\n",
              "      <td>180.8</td>\n",
              "      <td>109</td>\n",
              "      <td>30.74</td>\n",
              "      <td>288.8</td>\n",
              "      <td>58</td>\n",
              "      <td>24.55</td>\n",
              "      <td>191.9</td>\n",
              "      <td>91</td>\n",
              "      <td>8.64</td>\n",
              "      <td>14.1</td>\n",
              "      <td>6</td>\n",
              "      <td>3.81</td>\n",
              "      <td>2</td>\n",
              "      <td>False</td>\n",
              "    </tr>\n",
              "    <tr>\n",
              "      <th>3331</th>\n",
              "      <td>CT</td>\n",
              "      <td>184</td>\n",
              "      <td>510</td>\n",
              "      <td>Yes</td>\n",
              "      <td>No</td>\n",
              "      <td>0</td>\n",
              "      <td>213.8</td>\n",
              "      <td>105</td>\n",
              "      <td>36.35</td>\n",
              "      <td>159.6</td>\n",
              "      <td>84</td>\n",
              "      <td>13.57</td>\n",
              "      <td>139.2</td>\n",
              "      <td>137</td>\n",
              "      <td>6.26</td>\n",
              "      <td>5.0</td>\n",
              "      <td>10</td>\n",
              "      <td>1.35</td>\n",
              "      <td>2</td>\n",
              "      <td>False</td>\n",
              "    </tr>\n",
              "    <tr>\n",
              "      <th>3332</th>\n",
              "      <td>TN</td>\n",
              "      <td>74</td>\n",
              "      <td>415</td>\n",
              "      <td>No</td>\n",
              "      <td>Yes</td>\n",
              "      <td>25</td>\n",
              "      <td>234.4</td>\n",
              "      <td>113</td>\n",
              "      <td>39.85</td>\n",
              "      <td>265.9</td>\n",
              "      <td>82</td>\n",
              "      <td>22.60</td>\n",
              "      <td>241.4</td>\n",
              "      <td>77</td>\n",
              "      <td>10.86</td>\n",
              "      <td>13.7</td>\n",
              "      <td>4</td>\n",
              "      <td>3.70</td>\n",
              "      <td>0</td>\n",
              "      <td>False</td>\n",
              "    </tr>\n",
              "  </tbody>\n",
              "</table>\n",
              "<p>3333 rows × 20 columns</p>\n",
              "</div>"
            ]
          },
          "metadata": {},
          "execution_count": 32
        }
      ],
      "metadata": {
        "id": "h1p7zsYPOarI"
      }
    },
    {
      "cell_type": "code",
      "execution_count": 33,
      "source": [
        "print(\"Shape of dataset\\n\",telset.shape)\r\n",
        "\r\n",
        "print(\"\\n\\nDataType info\\n\")\r\n",
        "print(telset.info())"
      ],
      "outputs": [
        {
          "output_type": "stream",
          "name": "stdout",
          "text": [
            "Shape of dataset\n",
            " (3333, 20)\n",
            "\n",
            "\n",
            "DataType info\n",
            "\n",
            "<class 'pandas.core.frame.DataFrame'>\n",
            "RangeIndex: 3333 entries, 0 to 3332\n",
            "Data columns (total 20 columns):\n",
            " #   Column                  Non-Null Count  Dtype  \n",
            "---  ------                  --------------  -----  \n",
            " 0   State                   3333 non-null   object \n",
            " 1   Account length          3333 non-null   int64  \n",
            " 2   Area code               3333 non-null   int64  \n",
            " 3   International plan      3333 non-null   object \n",
            " 4   Voice mail plan         3333 non-null   object \n",
            " 5   Number vmail messages   3333 non-null   int64  \n",
            " 6   Total day minutes       3333 non-null   float64\n",
            " 7   Total day calls         3333 non-null   int64  \n",
            " 8   Total day charge        3333 non-null   float64\n",
            " 9   Total eve minutes       3333 non-null   float64\n",
            " 10  Total eve calls         3333 non-null   int64  \n",
            " 11  Total eve charge        3333 non-null   float64\n",
            " 12  Total night minutes     3333 non-null   float64\n",
            " 13  Total night calls       3333 non-null   int64  \n",
            " 14  Total night charge      3333 non-null   float64\n",
            " 15  Total intl minutes      3333 non-null   float64\n",
            " 16  Total intl calls        3333 non-null   int64  \n",
            " 17  Total intl charge       3333 non-null   float64\n",
            " 18  Customer service calls  3333 non-null   int64  \n",
            " 19  Churn                   3333 non-null   bool   \n",
            "dtypes: bool(1), float64(8), int64(8), object(3)\n",
            "memory usage: 498.1+ KB\n",
            "None\n"
          ]
        }
      ],
      "metadata": {
        "id": "jaKyQkdygezV"
      }
    },
    {
      "cell_type": "markdown",
      "source": [
        "Displaying summary statistics for each attribute"
      ],
      "metadata": {
        "id": "5dxTk-rrshdd"
      }
    },
    {
      "cell_type": "code",
      "execution_count": 34,
      "source": [
        "print(\"The statistical info of each attribute\\n\")\r\n",
        "datasummary = telset.describe(include = ['int','object'])\r\n",
        "datasummary"
      ],
      "outputs": [
        {
          "output_type": "stream",
          "name": "stdout",
          "text": [
            "The statistical info of each attribute\n",
            "\n"
          ]
        },
        {
          "output_type": "execute_result",
          "data": {
            "text/plain": [
              "       State International plan Voice mail plan\n",
              "count   3333               3333            3333\n",
              "unique    51                  2               2\n",
              "top       WV                 No              No\n",
              "freq     106               3010            2411"
            ],
            "text/html": [
              "<div>\n",
              "<style scoped>\n",
              "    .dataframe tbody tr th:only-of-type {\n",
              "        vertical-align: middle;\n",
              "    }\n",
              "\n",
              "    .dataframe tbody tr th {\n",
              "        vertical-align: top;\n",
              "    }\n",
              "\n",
              "    .dataframe thead th {\n",
              "        text-align: right;\n",
              "    }\n",
              "</style>\n",
              "<table border=\"1\" class=\"dataframe\">\n",
              "  <thead>\n",
              "    <tr style=\"text-align: right;\">\n",
              "      <th></th>\n",
              "      <th>State</th>\n",
              "      <th>International plan</th>\n",
              "      <th>Voice mail plan</th>\n",
              "    </tr>\n",
              "  </thead>\n",
              "  <tbody>\n",
              "    <tr>\n",
              "      <th>count</th>\n",
              "      <td>3333</td>\n",
              "      <td>3333</td>\n",
              "      <td>3333</td>\n",
              "    </tr>\n",
              "    <tr>\n",
              "      <th>unique</th>\n",
              "      <td>51</td>\n",
              "      <td>2</td>\n",
              "      <td>2</td>\n",
              "    </tr>\n",
              "    <tr>\n",
              "      <th>top</th>\n",
              "      <td>WV</td>\n",
              "      <td>No</td>\n",
              "      <td>No</td>\n",
              "    </tr>\n",
              "    <tr>\n",
              "      <th>freq</th>\n",
              "      <td>106</td>\n",
              "      <td>3010</td>\n",
              "      <td>2411</td>\n",
              "    </tr>\n",
              "  </tbody>\n",
              "</table>\n",
              "</div>"
            ]
          },
          "metadata": {},
          "execution_count": 34
        }
      ],
      "metadata": {
        "id": "LIYiVqj2RHXQ"
      }
    },
    {
      "cell_type": "code",
      "execution_count": 35,
      "source": [
        "print(\"\\nMean\\n\")\r\n",
        "meanInfo = telset.mean()\r\n",
        "meanInfo"
      ],
      "outputs": [
        {
          "output_type": "stream",
          "name": "stdout",
          "text": [
            "\n",
            "Mean\n",
            "\n"
          ]
        },
        {
          "output_type": "execute_result",
          "data": {
            "text/plain": [
              "Account length            101.064806\n",
              "Area code                 437.182418\n",
              "Number vmail messages       8.099010\n",
              "Total day minutes         179.775098\n",
              "Total day calls           100.435644\n",
              "Total day charge           30.562307\n",
              "Total eve minutes         200.980348\n",
              "Total eve calls           100.114311\n",
              "Total eve charge           17.083540\n",
              "Total night minutes       200.872037\n",
              "Total night calls         100.107711\n",
              "Total night charge          9.039325\n",
              "Total intl minutes         10.237294\n",
              "Total intl calls            4.479448\n",
              "Total intl charge           2.764581\n",
              "Customer service calls      1.562856\n",
              "Churn                       0.144914\n",
              "dtype: float64"
            ]
          },
          "metadata": {},
          "execution_count": 35
        }
      ],
      "metadata": {
        "id": "X0UJi1Y_1i4c"
      }
    },
    {
      "cell_type": "code",
      "execution_count": 36,
      "source": [
        "print(\"\\nMedian\\n\")\r\n",
        "medianInfo = telset.median()\r\n",
        "medianInfo"
      ],
      "outputs": [
        {
          "output_type": "stream",
          "name": "stdout",
          "text": [
            "\n",
            "Median\n",
            "\n"
          ]
        },
        {
          "output_type": "execute_result",
          "data": {
            "text/plain": [
              "Account length            101.00\n",
              "Area code                 415.00\n",
              "Number vmail messages       0.00\n",
              "Total day minutes         179.40\n",
              "Total day calls           101.00\n",
              "Total day charge           30.50\n",
              "Total eve minutes         201.40\n",
              "Total eve calls           100.00\n",
              "Total eve charge           17.12\n",
              "Total night minutes       201.20\n",
              "Total night calls         100.00\n",
              "Total night charge          9.05\n",
              "Total intl minutes         10.30\n",
              "Total intl calls            4.00\n",
              "Total intl charge           2.78\n",
              "Customer service calls      1.00\n",
              "Churn                       0.00\n",
              "dtype: float64"
            ]
          },
          "metadata": {},
          "execution_count": 36
        }
      ],
      "metadata": {
        "id": "LHXNfa6ga9G5"
      }
    },
    {
      "cell_type": "code",
      "execution_count": 37,
      "source": [
        "print(\"\\nMode\\n\")\r\n",
        "modeInfo = telset.mode()\r\n",
        "modeInfo"
      ],
      "outputs": [
        {
          "output_type": "stream",
          "name": "stdout",
          "text": [
            "\n",
            "Mode\n",
            "\n"
          ]
        },
        {
          "output_type": "execute_result",
          "data": {
            "text/plain": [
              "  State  Account length  Area code International plan Voice mail plan  \\\n",
              "0    WV           105.0      415.0                 No              No   \n",
              "1   NaN             NaN        NaN                NaN             NaN   \n",
              "2   NaN             NaN        NaN                NaN             NaN   \n",
              "3   NaN             NaN        NaN                NaN             NaN   \n",
              "4   NaN             NaN        NaN                NaN             NaN   \n",
              "\n",
              "   Number vmail messages  Total day minutes  Total day calls  \\\n",
              "0                    0.0              154.0            102.0   \n",
              "1                    NaN              159.5              NaN   \n",
              "2                    NaN              174.5              NaN   \n",
              "3                    NaN                NaN              NaN   \n",
              "4                    NaN                NaN              NaN   \n",
              "\n",
              "   Total day charge  Total eve minutes  Total eve calls  Total eve charge  \\\n",
              "0             26.18              169.9            105.0             14.25   \n",
              "1             27.12                NaN              NaN             16.12   \n",
              "2             29.67                NaN              NaN               NaN   \n",
              "3               NaN                NaN              NaN               NaN   \n",
              "4               NaN                NaN              NaN               NaN   \n",
              "\n",
              "   Total night minutes  Total night calls  Total night charge  \\\n",
              "0                188.2              105.0                9.45   \n",
              "1                191.4                NaN                9.66   \n",
              "2                197.4                NaN                 NaN   \n",
              "3                210.0                NaN                 NaN   \n",
              "4                214.6                NaN                 NaN   \n",
              "\n",
              "   Total intl minutes  Total intl calls  Total intl charge  \\\n",
              "0                10.0               3.0                2.7   \n",
              "1                 NaN               NaN                NaN   \n",
              "2                 NaN               NaN                NaN   \n",
              "3                 NaN               NaN                NaN   \n",
              "4                 NaN               NaN                NaN   \n",
              "\n",
              "   Customer service calls  Churn  \n",
              "0                     1.0  False  \n",
              "1                     NaN    NaN  \n",
              "2                     NaN    NaN  \n",
              "3                     NaN    NaN  \n",
              "4                     NaN    NaN  "
            ],
            "text/html": [
              "<div>\n",
              "<style scoped>\n",
              "    .dataframe tbody tr th:only-of-type {\n",
              "        vertical-align: middle;\n",
              "    }\n",
              "\n",
              "    .dataframe tbody tr th {\n",
              "        vertical-align: top;\n",
              "    }\n",
              "\n",
              "    .dataframe thead th {\n",
              "        text-align: right;\n",
              "    }\n",
              "</style>\n",
              "<table border=\"1\" class=\"dataframe\">\n",
              "  <thead>\n",
              "    <tr style=\"text-align: right;\">\n",
              "      <th></th>\n",
              "      <th>State</th>\n",
              "      <th>Account length</th>\n",
              "      <th>Area code</th>\n",
              "      <th>International plan</th>\n",
              "      <th>Voice mail plan</th>\n",
              "      <th>Number vmail messages</th>\n",
              "      <th>Total day minutes</th>\n",
              "      <th>Total day calls</th>\n",
              "      <th>Total day charge</th>\n",
              "      <th>Total eve minutes</th>\n",
              "      <th>Total eve calls</th>\n",
              "      <th>Total eve charge</th>\n",
              "      <th>Total night minutes</th>\n",
              "      <th>Total night calls</th>\n",
              "      <th>Total night charge</th>\n",
              "      <th>Total intl minutes</th>\n",
              "      <th>Total intl calls</th>\n",
              "      <th>Total intl charge</th>\n",
              "      <th>Customer service calls</th>\n",
              "      <th>Churn</th>\n",
              "    </tr>\n",
              "  </thead>\n",
              "  <tbody>\n",
              "    <tr>\n",
              "      <th>0</th>\n",
              "      <td>WV</td>\n",
              "      <td>105.0</td>\n",
              "      <td>415.0</td>\n",
              "      <td>No</td>\n",
              "      <td>No</td>\n",
              "      <td>0.0</td>\n",
              "      <td>154.0</td>\n",
              "      <td>102.0</td>\n",
              "      <td>26.18</td>\n",
              "      <td>169.9</td>\n",
              "      <td>105.0</td>\n",
              "      <td>14.25</td>\n",
              "      <td>188.2</td>\n",
              "      <td>105.0</td>\n",
              "      <td>9.45</td>\n",
              "      <td>10.0</td>\n",
              "      <td>3.0</td>\n",
              "      <td>2.7</td>\n",
              "      <td>1.0</td>\n",
              "      <td>False</td>\n",
              "    </tr>\n",
              "    <tr>\n",
              "      <th>1</th>\n",
              "      <td>NaN</td>\n",
              "      <td>NaN</td>\n",
              "      <td>NaN</td>\n",
              "      <td>NaN</td>\n",
              "      <td>NaN</td>\n",
              "      <td>NaN</td>\n",
              "      <td>159.5</td>\n",
              "      <td>NaN</td>\n",
              "      <td>27.12</td>\n",
              "      <td>NaN</td>\n",
              "      <td>NaN</td>\n",
              "      <td>16.12</td>\n",
              "      <td>191.4</td>\n",
              "      <td>NaN</td>\n",
              "      <td>9.66</td>\n",
              "      <td>NaN</td>\n",
              "      <td>NaN</td>\n",
              "      <td>NaN</td>\n",
              "      <td>NaN</td>\n",
              "      <td>NaN</td>\n",
              "    </tr>\n",
              "    <tr>\n",
              "      <th>2</th>\n",
              "      <td>NaN</td>\n",
              "      <td>NaN</td>\n",
              "      <td>NaN</td>\n",
              "      <td>NaN</td>\n",
              "      <td>NaN</td>\n",
              "      <td>NaN</td>\n",
              "      <td>174.5</td>\n",
              "      <td>NaN</td>\n",
              "      <td>29.67</td>\n",
              "      <td>NaN</td>\n",
              "      <td>NaN</td>\n",
              "      <td>NaN</td>\n",
              "      <td>197.4</td>\n",
              "      <td>NaN</td>\n",
              "      <td>NaN</td>\n",
              "      <td>NaN</td>\n",
              "      <td>NaN</td>\n",
              "      <td>NaN</td>\n",
              "      <td>NaN</td>\n",
              "      <td>NaN</td>\n",
              "    </tr>\n",
              "    <tr>\n",
              "      <th>3</th>\n",
              "      <td>NaN</td>\n",
              "      <td>NaN</td>\n",
              "      <td>NaN</td>\n",
              "      <td>NaN</td>\n",
              "      <td>NaN</td>\n",
              "      <td>NaN</td>\n",
              "      <td>NaN</td>\n",
              "      <td>NaN</td>\n",
              "      <td>NaN</td>\n",
              "      <td>NaN</td>\n",
              "      <td>NaN</td>\n",
              "      <td>NaN</td>\n",
              "      <td>210.0</td>\n",
              "      <td>NaN</td>\n",
              "      <td>NaN</td>\n",
              "      <td>NaN</td>\n",
              "      <td>NaN</td>\n",
              "      <td>NaN</td>\n",
              "      <td>NaN</td>\n",
              "      <td>NaN</td>\n",
              "    </tr>\n",
              "    <tr>\n",
              "      <th>4</th>\n",
              "      <td>NaN</td>\n",
              "      <td>NaN</td>\n",
              "      <td>NaN</td>\n",
              "      <td>NaN</td>\n",
              "      <td>NaN</td>\n",
              "      <td>NaN</td>\n",
              "      <td>NaN</td>\n",
              "      <td>NaN</td>\n",
              "      <td>NaN</td>\n",
              "      <td>NaN</td>\n",
              "      <td>NaN</td>\n",
              "      <td>NaN</td>\n",
              "      <td>214.6</td>\n",
              "      <td>NaN</td>\n",
              "      <td>NaN</td>\n",
              "      <td>NaN</td>\n",
              "      <td>NaN</td>\n",
              "      <td>NaN</td>\n",
              "      <td>NaN</td>\n",
              "      <td>NaN</td>\n",
              "    </tr>\n",
              "  </tbody>\n",
              "</table>\n",
              "</div>"
            ]
          },
          "metadata": {},
          "execution_count": 37
        }
      ],
      "metadata": {
        "id": "JGUHlDsu1saJ"
      }
    },
    {
      "cell_type": "code",
      "execution_count": 38,
      "source": [
        "print(\"\\nStd Dev\\n\")\r\n",
        "stddevInfo = telset.std()\r\n",
        "stddevInfo"
      ],
      "outputs": [
        {
          "output_type": "stream",
          "name": "stdout",
          "text": [
            "\n",
            "Std Dev\n",
            "\n"
          ]
        },
        {
          "output_type": "execute_result",
          "data": {
            "text/plain": [
              "Account length            39.822106\n",
              "Area code                 42.371290\n",
              "Number vmail messages     13.688365\n",
              "Total day minutes         54.467389\n",
              "Total day calls           20.069084\n",
              "Total day charge           9.259435\n",
              "Total eve minutes         50.713844\n",
              "Total eve calls           19.922625\n",
              "Total eve charge           4.310668\n",
              "Total night minutes       50.573847\n",
              "Total night calls         19.568609\n",
              "Total night charge         2.275873\n",
              "Total intl minutes         2.791840\n",
              "Total intl calls           2.461214\n",
              "Total intl charge          0.753773\n",
              "Customer service calls     1.315491\n",
              "Churn                      0.352067\n",
              "dtype: float64"
            ]
          },
          "metadata": {},
          "execution_count": 38
        }
      ],
      "metadata": {
        "id": "FcSiznpw2BE4"
      }
    },
    {
      "cell_type": "code",
      "execution_count": 39,
      "source": [
        "print(\"\\nSkewness\\n\")\r\n",
        "skewnessInfo = telset.skew()\r\n",
        "skewnessInfo"
      ],
      "outputs": [
        {
          "output_type": "stream",
          "name": "stdout",
          "text": [
            "\n",
            "Skewness\n",
            "\n"
          ]
        },
        {
          "output_type": "execute_result",
          "data": {
            "text/plain": [
              "Account length            0.096606\n",
              "Area code                 1.126823\n",
              "Number vmail messages     1.264824\n",
              "Total day minutes        -0.029077\n",
              "Total day calls          -0.111787\n",
              "Total day charge         -0.029083\n",
              "Total eve minutes        -0.023877\n",
              "Total eve calls          -0.055563\n",
              "Total eve charge         -0.023858\n",
              "Total night minutes       0.008921\n",
              "Total night calls         0.032500\n",
              "Total night charge        0.008886\n",
              "Total intl minutes       -0.245136\n",
              "Total intl calls          1.321478\n",
              "Total intl charge        -0.245287\n",
              "Customer service calls    1.091359\n",
              "Churn                     2.018356\n",
              "dtype: float64"
            ]
          },
          "metadata": {},
          "execution_count": 39
        }
      ],
      "metadata": {
        "id": "HN4v0Q9Q2EUZ"
      }
    },
    {
      "cell_type": "markdown",
      "source": [
        "Data Transformation\n"
      ],
      "metadata": {
        "id": "fvBEteVXwbLc"
      }
    },
    {
      "cell_type": "code",
      "execution_count": 40,
      "source": [
        "from sklearn.preprocessing import LabelEncoder\r\n",
        "\r\n",
        "print(\"Performing label encoding (since the columns below are nominal)\\n\")\r\n",
        "#Encode type object to numerical\r\n",
        "lblEncoder = LabelEncoder()\r\n",
        "telset['State'] = lblEncoder.fit_transform(telset['State'])\r\n",
        "telset['International plan'] = lblEncoder.fit_transform(telset['International plan'])\r\n",
        "telset['Voice mail plan'] = lblEncoder.fit_transform(telset['Voice mail plan'])\r\n",
        "\r\n",
        "print(\"DataType info\\n\")\r\n",
        "datatypeInfo = telset.info()\r\n",
        "datatypeInfo"
      ],
      "outputs": [
        {
          "output_type": "stream",
          "name": "stdout",
          "text": [
            "Performing label encoding (since the columns below are nominal)\n",
            "\n",
            "DataType info\n",
            "\n",
            "<class 'pandas.core.frame.DataFrame'>\n",
            "RangeIndex: 3333 entries, 0 to 3332\n",
            "Data columns (total 20 columns):\n",
            " #   Column                  Non-Null Count  Dtype  \n",
            "---  ------                  --------------  -----  \n",
            " 0   State                   3333 non-null   int32  \n",
            " 1   Account length          3333 non-null   int64  \n",
            " 2   Area code               3333 non-null   int64  \n",
            " 3   International plan      3333 non-null   int32  \n",
            " 4   Voice mail plan         3333 non-null   int32  \n",
            " 5   Number vmail messages   3333 non-null   int64  \n",
            " 6   Total day minutes       3333 non-null   float64\n",
            " 7   Total day calls         3333 non-null   int64  \n",
            " 8   Total day charge        3333 non-null   float64\n",
            " 9   Total eve minutes       3333 non-null   float64\n",
            " 10  Total eve calls         3333 non-null   int64  \n",
            " 11  Total eve charge        3333 non-null   float64\n",
            " 12  Total night minutes     3333 non-null   float64\n",
            " 13  Total night calls       3333 non-null   int64  \n",
            " 14  Total night charge      3333 non-null   float64\n",
            " 15  Total intl minutes      3333 non-null   float64\n",
            " 16  Total intl calls        3333 non-null   int64  \n",
            " 17  Total intl charge       3333 non-null   float64\n",
            " 18  Customer service calls  3333 non-null   int64  \n",
            " 19  Churn                   3333 non-null   bool   \n",
            "dtypes: bool(1), float64(8), int32(3), int64(8)\n",
            "memory usage: 459.1 KB\n"
          ]
        }
      ],
      "metadata": {
        "id": "cxXU42AJwezv"
      }
    },
    {
      "cell_type": "markdown",
      "source": [
        "Feature matrix creation and min-max feature scaling (normalization)"
      ],
      "metadata": {
        "id": "18k4AWmJ-z1C"
      }
    },
    {
      "cell_type": "code",
      "execution_count": 41,
      "source": [
        "print(\"Feature Matrix\\n\")\r\n",
        "actualX = telset.iloc[:,0:19]\r\n",
        "actualX1 = actualX\r\n",
        "actualX = actualX.to_numpy()\r\n",
        "print(actualX)\r\n",
        "\r\n",
        "from sklearn import preprocessing \r\n",
        "print(\"\\n\\nNormalised Feature Matrix\\n\")\r\n",
        "scaler = preprocessing.MinMaxScaler() \r\n",
        "X_scaled = scaler.fit_transform(actualX)\r\n",
        "print(X_scaled)\r\n",
        "\r\n",
        "print(\"\\n\\nExpected Output Y\\n\")\r\n",
        "actualY = telset.iloc[:,[19]]\r\n",
        "actualY = actualY.to_numpy().reshape(len(actualY),)\r\n",
        "print(actualY)\r\n"
      ],
      "outputs": [
        {
          "output_type": "stream",
          "name": "stdout",
          "text": [
            "Feature Matrix\n",
            "\n",
            "[[ 16.   128.   415.   ...   3.     2.7    1.  ]\n",
            " [ 35.   107.   415.   ...   3.     3.7    1.  ]\n",
            " [ 31.   137.   415.   ...   5.     3.29   0.  ]\n",
            " ...\n",
            " [ 39.    28.   510.   ...   6.     3.81   2.  ]\n",
            " [  6.   184.   510.   ...  10.     1.35   2.  ]\n",
            " [ 42.    74.   415.   ...   4.     3.7    0.  ]]\n",
            "\n",
            "\n",
            "Normalised Feature Matrix\n",
            "\n",
            "[[0.32       0.52479339 0.06862745 ... 0.15       0.5        0.11111111]\n",
            " [0.7        0.43801653 0.06862745 ... 0.15       0.68518519 0.11111111]\n",
            " [0.62       0.56198347 0.06862745 ... 0.25       0.60925926 0.        ]\n",
            " ...\n",
            " [0.78       0.11157025 1.         ... 0.3        0.70555556 0.22222222]\n",
            " [0.12       0.75619835 1.         ... 0.5        0.25       0.22222222]\n",
            " [0.84       0.30165289 0.06862745 ... 0.2        0.68518519 0.        ]]\n",
            "\n",
            "\n",
            "Expected Output Y\n",
            "\n",
            "[False False False ... False False False]\n"
          ]
        }
      ],
      "metadata": {
        "id": "-_MeSk3k55Yt"
      }
    },
    {
      "cell_type": "markdown",
      "source": [
        "Splitting dataset and training model"
      ],
      "metadata": {
        "id": "0nFe61hyFhbb"
      }
    },
    {
      "cell_type": "code",
      "execution_count": 42,
      "source": [
        "from sklearn import linear_model\r\n",
        "from sklearn import metrics\r\n",
        "from sklearn import ensemble\r\n",
        "from sklearn.model_selection import StratifiedKFold\r\n",
        "\r\n",
        "def stratified_kfold(X, X_scaled, y, clf_class, **kwargs):\r\n",
        "  strkf = StratifiedKFold(n_splits=10, shuffle=True)\r\n",
        "  y_pred = y.copy()\r\n",
        "  for train_index, test_index in strkf.split(X,y):\r\n",
        "    X_train, X_test = X_scaled[train_index], X_scaled[test_index]\r\n",
        "    y_train = y[train_index]\r\n",
        "    clf = clf_class(**kwargs)\r\n",
        "    clf.fit(X_train,y_train)\r\n",
        "    y_pred[test_index] = clf.predict(X_test)\r\n",
        "  return y_pred\r\n",
        "\r\n",
        "print(\"Logistic Regression: \",metrics.accuracy_score(actualY, stratified_kfold(actualX, X_scaled, actualY, linear_model.LogisticRegression)))\r\n",
        "print(\"Random Forest Classifier: \",metrics.accuracy_score(actualY, stratified_kfold(actualX, X_scaled, actualY, ensemble.RandomForestClassifier)))"
      ],
      "outputs": [
        {
          "output_type": "stream",
          "name": "stdout",
          "text": [
            "Logistic Regression:  0.8607860786078608\n",
            "Random Forest Classifier:  0.9540954095409541\n"
          ]
        }
      ],
      "metadata": {
        "id": "LU1nj0OzFgWN"
      }
    },
    {
      "cell_type": "markdown",
      "source": [
        "Confusion Matrix for the models"
      ],
      "metadata": {
        "id": "5BUKrvnVyX3p"
      }
    },
    {
      "cell_type": "code",
      "execution_count": 43,
      "source": [
        "import seaborn as sb\r\n",
        "import matplotlib.pyplot as plt\r\n",
        "\r\n",
        "lr_conf = metrics.confusion_matrix(actualY, stratified_kfold(actualX, X_scaled, actualY, linear_model.LogisticRegression))\r\n",
        "sb.heatmap(lr_conf, annot=True,  fmt='');\r\n",
        "title = \"Logistic Regression\"\r\n",
        "plt.title(title);"
      ],
      "outputs": [
        {
          "output_type": "display_data",
          "data": {
            "text/plain": [
              "<Figure size 432x288 with 2 Axes>"
            ],
            "image/png": "[encoded data removed]"
          },
          "metadata": {
            "needs_background": "light"
          }
        }
      ],
      "metadata": {
        "id": "5B9eNeMHyWMr"
      }
    },
    {
      "cell_type": "code",
      "execution_count": 44,
      "source": [
        "rfc_conf = metrics.confusion_matrix(actualY, stratified_kfold(actualX, X_scaled, actualY, ensemble.RandomForestClassifier))\r\n",
        "sb.heatmap(rfc_conf, annot=True,  fmt='');\r\n",
        "title = \"Random Forest Classifier\"\r\n",
        "plt.title(title);"
      ],
      "outputs": [
        {
          "output_type": "display_data",
          "data": {
            "text/plain": [
              "<Figure size 432x288 with 2 Axes>"
            ],
            "image/png": "[encoded data removed]"
          },
          "metadata": {
            "needs_background": "light"
          }
        }
      ],
      "metadata": {
        "id": "cWgyov89zN5p"
      }
    },
    {
      "cell_type": "markdown",
      "source": [
        "From the above two models, the Random Forest Classifier performs better hence the model is selected"
      ],
      "metadata": {
        "id": "q0f_QV1Iz-mc"
      }
    },
    {
      "cell_type": "markdown",
      "source": [
        "Feature Importance"
      ],
      "metadata": {
        "id": "ba7fOLkb0In7"
      }
    },
    {
      "cell_type": "code",
      "execution_count": 45,
      "source": [
        "rfc = ensemble.RandomForestClassifier()\r\n",
        "rfc.fit(X_scaled, actualY)\r\n",
        "''' \r\n",
        "    rfc.feature_importances_ returns the feature importance\r\n",
        "    pd.Series is a 1D labelled array\r\n",
        "    ft_imp is a series having feature importance returned by model and labelled/indexed by the column names\r\n",
        "'''\r\n",
        "ft_imp = pd.Series(rfc.feature_importances_, index = actualX1.columns)\r\n",
        "print(ft_imp)\r\n",
        "ft_imp = ft_imp.nsmallest(19)\r\n",
        "ft_imp.plot(kind='barh', figsize=(6,9)) "
      ],
      "outputs": [
        {
          "output_type": "stream",
          "name": "stdout",
          "text": [
            "State                     0.023435\n",
            "Account length            0.031020\n",
            "Area code                 0.008691\n",
            "International plan        0.081056\n",
            "Voice mail plan           0.024415\n",
            "Number vmail messages     0.022981\n",
            "Total day minutes         0.144912\n",
            "Total day calls           0.029513\n",
            "Total day charge          0.132135\n",
            "Total eve minutes         0.066135\n",
            "Total eve calls           0.026119\n",
            "Total eve charge          0.065140\n",
            "Total night minutes       0.035710\n",
            "Total night calls         0.030224\n",
            "Total night charge        0.035978\n",
            "Total intl minutes        0.038711\n",
            "Total intl calls          0.046663\n",
            "Total intl charge         0.041475\n",
            "Customer service calls    0.115688\n",
            "dtype: float64\n"
          ]
        },
        {
          "output_type": "execute_result",
          "data": {
            "text/plain": [
              "<AxesSubplot:>"
            ]
          },
          "metadata": {},
          "execution_count": 45
        },
        {
          "output_type": "display_data",
          "data": {
            "text/plain": [
              "<Figure size 432x648 with 1 Axes>"
            ],
            "image/png": "[encoded data removed]"
          },
          "metadata": {
            "needs_background": "light"
          }
        }
      ],
      "metadata": {
        "id": "nny8tDAa0H3b"
      }
    }
  ]
}